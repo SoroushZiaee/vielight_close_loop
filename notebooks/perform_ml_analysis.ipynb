{
 "cells": [
  {
   "cell_type": "code",
   "execution_count": 1,
   "metadata": {},
   "outputs": [],
   "source": [
    "%load_ext lab_black\n",
    "%load_ext autoreload\n",
    "%autoreload 2\n",
    "%matplotlib inline"
   ]
  },
  {
   "cell_type": "code",
   "execution_count": 18,
   "metadata": {},
   "outputs": [],
   "source": [
    "import numpy as np\n",
    "import matplotlib.pyplot as plt\n",
    "import pandas as pd\n",
    "import mne\n",
    "import os\n",
    "from tqdm import tqdm\n",
    "\n",
    "from scipy.stats import kurtosis, skew\n",
    "\n",
    "from typing import List, Tuple\n",
    "\n",
    "from mne.io import read_raw_eeglab"
   ]
  },
  {
   "cell_type": "code",
   "execution_count": 6,
   "metadata": {},
   "outputs": [],
   "source": [
    "# Chunk data into 1 second epochs with 20% overlap\n",
    "def chunk_data(raw: mne.io.Raw, epoch_length=1, overlap=0.2) -> List[mne.io.Raw]:\n",
    "    total_recording_time = raw.times[-1]  # in seconds\n",
    "    overlap_length = epoch_length * overlap\n",
    "    start = 0\n",
    "    epochs = []\n",
    "    while start + epoch_length < total_recording_time:\n",
    "        epochs.append(raw.copy().crop(tmin=start, tmax=start + epoch_length))\n",
    "        start += epoch_length - overlap_length\n",
    "    return epochs\n",
    "\n",
    "\n",
    "# calculate the mean of each channel over time\n",
    "def calculate_mean(epochs: List[mne.io.Raw]) -> np.ndarray:\n",
    "    means = []\n",
    "    for epoch in epochs:\n",
    "        try:\n",
    "            means.append(epoch.get_data().mean(axis=1))\n",
    "        except:\n",
    "            print(\"Error\")\n",
    "            print(epoch.get_data().shape)\n",
    "            break\n",
    "\n",
    "    return np.array(means)\n",
    "\n",
    "\n",
    "# calculate the Variance and Standard Deviation of each channel over time\n",
    "def calculate_variance(epochs: List[mne.io.Raw]) -> np.ndarray:\n",
    "    variances = []\n",
    "    for epoch in epochs:\n",
    "        variances.append(epoch.get_data().var(axis=1))\n",
    "    return np.array(variances)\n",
    "\n",
    "\n",
    "def calculate_std(epochs: List[mne.io.Raw]) -> np.ndarray:\n",
    "    stds = []\n",
    "    for epoch in epochs:\n",
    "        stds.append(epoch.get_data().std(axis=1))\n",
    "    return np.array(stds)\n",
    "\n",
    "\n",
    "# calculate the Peak-to-Peak Amplitude of each channel over time\n",
    "def calculate_peak_to_peak(epochs: List[mne.io.Raw]) -> np.ndarray:\n",
    "    peak_to_peaks = []\n",
    "    for epoch in epochs:\n",
    "        peak_to_peaks.append(epoch.get_data().ptp(axis=1))\n",
    "    return np.array(peak_to_peaks)\n",
    "\n",
    "\n",
    "# calculate the Root Mean Square (RMS) of each channel over time\n",
    "def calculate_rms(epochs: List[mne.io.Raw]) -> np.ndarray:\n",
    "    rms = []\n",
    "    for epoch in epochs:\n",
    "        rms.append(np.sqrt(np.mean(epoch.get_data() ** 2, axis=1)))\n",
    "    return np.array(rms)\n",
    "\n",
    "\n",
    "# calculate the Skewness and Kurtosis of each channel over time\n",
    "def calculate_skewness(epochs: List[mne.io.Raw]) -> np.ndarray:\n",
    "    skewness_value = []\n",
    "    for epoch in epochs:\n",
    "        skewness_value.append(skew(epoch.get_data(), axis=1))\n",
    "    return np.array(skewness_value)\n",
    "\n",
    "\n",
    "def calculate_kurtosis(epochs: List[mne.io.Raw]) -> np.ndarray:\n",
    "    kurtosis_value = []\n",
    "    for epoch in epochs:\n",
    "        kurtosis_value.append(kurtosis(epoch.get_data(), axis=1))\n",
    "    return np.array(kurtosis_value)\n",
    "\n",
    "\n",
    "def calculate_features(\n",
    "    epochs: List[mne.io.Raw], is_channel_wise: bool = True\n",
    ") -> pd.DataFrame:\n",
    "    mean = calculate_mean(epochs)\n",
    "    variance = calculate_variance(epochs)\n",
    "    std = calculate_std(epochs)\n",
    "    peak_to_peak = calculate_peak_to_peak(epochs)\n",
    "    rms = calculate_rms(epochs)\n",
    "    skewness = calculate_skewness(epochs)\n",
    "    kurtosis = calculate_kurtosis(epochs)\n",
    "\n",
    "    if is_channel_wise:\n",
    "        axis = 0\n",
    "    else:\n",
    "        axis = 1\n",
    "\n",
    "    return pd.DataFrame(\n",
    "        {\n",
    "            \"mean\": mean.mean(axis=axis),\n",
    "            \"variance\": variance.mean(axis=axis),\n",
    "            \"std\": std.mean(axis=axis),\n",
    "            \"peak_to_peak\": peak_to_peak.mean(axis=axis),\n",
    "            \"rms\": rms.mean(axis=axis),\n",
    "            \"skewness\": skewness.mean(axis=axis),\n",
    "            \"kurtosis\": kurtosis.mean(axis=axis),\n",
    "        }\n",
    "    )"
   ]
  },
  {
   "cell_type": "code",
   "execution_count": 7,
   "metadata": {},
   "outputs": [],
   "source": [
    "input_fnames = {\n",
    "    \"pre\": [\n",
    "        \"/Users/soroush/Documents/Code/freelance-project/vielight/vielight_close_loop/data/HD_5min40Hz_dur1_pre1_RELAX.set\",\n",
    "        \"/Users/soroush/Documents/Code/freelance-project/vielight/vielight_close_loop/data/HD_5min40Hz_dur2_pre2_RELAX.set\",\n",
    "        \"/Users/soroush/Documents/Code/freelance-project/vielight/vielight_close_loop/data/HD_5min40Hz_dur3_pre3_RELAX.set\",\n",
    "    ],\n",
    "    \"break\": [\n",
    "        \"/Users/soroush/Documents/Code/freelance-project/vielight/vielight_close_loop/data/HD_5min40Hz_dur2_RELAX.set\",\n",
    "        \"/Users/soroush/Documents/Code/freelance-project/vielight/vielight_close_loop/data/HD_5min40Hz_dur3_RELAX.set\",\n",
    "    ],\n",
    "    \"post\": [\n",
    "        \"/Users/soroush/Documents/Code/freelance-project/vielight/vielight_close_loop/data/HD_5min40Hz_dur1_post1_RELAX.set\",\n",
    "        \"/Users/soroush/Documents/Code/freelance-project/vielight/vielight_close_loop/data/HD_5min40Hz_dur2_post2_RELAX.set\",\n",
    "        # \"/Users/soroush/Documents/Code/freelance-project/vielight/vielight_close_loop/data/HD_5min40Hz_dur3_post3_RELAX.set\",\n",
    "        \"/Users/soroush/Documents/Code/freelance-project/vielight/vielight_close_loop/data/HD_5min40Hz_dur3_post3_part2_RELAX.set\",\n",
    "    ],\n",
    "}"
   ]
  },
  {
   "cell_type": "code",
   "execution_count": 46,
   "metadata": {},
   "outputs": [
    {
     "name": "stdout",
     "output_type": "stream",
     "text": [
      "Reading /Users/soroush/Documents/Code/freelance-project/vielight/vielight_close_loop/data/HD_5min40Hz_dur1_pre1_RELAX.fdt\n",
      "Reading 0 ... 70749  =      0.000 ...   141.498 secs...\n"
     ]
    },
    {
     "name": "stderr",
     "output_type": "stream",
     "text": [
      "/var/folders/r3/bw3cwm6125lcm5h39987hgz80000gn/T/ipykernel_31422/4094743639.py:7: RuntimeWarning: Estimated head radius (0.0 cm) is below the 3rd percentile for infant head size. Check if the montage_units argument is correct (the default is \"mm\", but your channel positions may be in different units).\n",
      "  pre_raws = read_raw_eeglab(\n",
      "/var/folders/r3/bw3cwm6125lcm5h39987hgz80000gn/T/ipykernel_31422/4094743639.py:7: RuntimeWarning: Limited 2 annotation(s) that were expanding outside the data range.\n",
      "  pre_raws = read_raw_eeglab(\n",
      "/var/folders/r3/bw3cwm6125lcm5h39987hgz80000gn/T/ipykernel_31422/4094743639.py:7: RuntimeWarning: The data contains 'boundary' events, indicating data discontinuities. Be cautious of filtering and epoching around these events.\n",
      "  pre_raws = read_raw_eeglab(\n"
     ]
    },
    {
     "name": "stdout",
     "output_type": "stream",
     "text": [
      "Reading /Users/soroush/Documents/Code/freelance-project/vielight/vielight_close_loop/data/HD_5min40Hz_dur2_pre2_RELAX.fdt\n",
      "Reading 0 ... 60499  =      0.000 ...   120.998 secs...\n"
     ]
    },
    {
     "name": "stderr",
     "output_type": "stream",
     "text": [
      "/var/folders/r3/bw3cwm6125lcm5h39987hgz80000gn/T/ipykernel_31422/4094743639.py:7: RuntimeWarning: Estimated head radius (0.0 cm) is below the 3rd percentile for infant head size. Check if the montage_units argument is correct (the default is \"mm\", but your channel positions may be in different units).\n",
      "  pre_raws = read_raw_eeglab(\n",
      "/var/folders/r3/bw3cwm6125lcm5h39987hgz80000gn/T/ipykernel_31422/4094743639.py:7: RuntimeWarning: Limited 2 annotation(s) that were expanding outside the data range.\n",
      "  pre_raws = read_raw_eeglab(\n",
      "/var/folders/r3/bw3cwm6125lcm5h39987hgz80000gn/T/ipykernel_31422/4094743639.py:7: RuntimeWarning: The data contains 'boundary' events, indicating data discontinuities. Be cautious of filtering and epoching around these events.\n",
      "  pre_raws = read_raw_eeglab(\n"
     ]
    },
    {
     "name": "stdout",
     "output_type": "stream",
     "text": [
      "Reading /Users/soroush/Documents/Code/freelance-project/vielight/vielight_close_loop/data/HD_5min40Hz_dur3_pre3_RELAX.fdt\n",
      "Reading 0 ... 45999  =      0.000 ...    91.998 secs...\n"
     ]
    },
    {
     "name": "stderr",
     "output_type": "stream",
     "text": [
      "/var/folders/r3/bw3cwm6125lcm5h39987hgz80000gn/T/ipykernel_31422/4094743639.py:7: RuntimeWarning: Estimated head radius (0.0 cm) is below the 3rd percentile for infant head size. Check if the montage_units argument is correct (the default is \"mm\", but your channel positions may be in different units).\n",
      "  pre_raws = read_raw_eeglab(\n",
      "/var/folders/r3/bw3cwm6125lcm5h39987hgz80000gn/T/ipykernel_31422/4094743639.py:7: RuntimeWarning: Limited 2 annotation(s) that were expanding outside the data range.\n",
      "  pre_raws = read_raw_eeglab(\n",
      "/var/folders/r3/bw3cwm6125lcm5h39987hgz80000gn/T/ipykernel_31422/4094743639.py:7: RuntimeWarning: The data contains 'boundary' events, indicating data discontinuities. Be cautious of filtering and epoching around these events.\n",
      "  pre_raws = read_raw_eeglab(\n"
     ]
    },
    {
     "name": "stdout",
     "output_type": "stream",
     "text": [
      "Reading /Users/soroush/Documents/Code/freelance-project/vielight/vielight_close_loop/data/HD_5min40Hz_dur1_post1_RELAX.fdt\n",
      "Reading 0 ... 50999  =      0.000 ...   101.998 secs...\n"
     ]
    },
    {
     "name": "stderr",
     "output_type": "stream",
     "text": [
      "/var/folders/r3/bw3cwm6125lcm5h39987hgz80000gn/T/ipykernel_31422/4094743639.py:14: RuntimeWarning: Estimated head radius (0.0 cm) is below the 3rd percentile for infant head size. Check if the montage_units argument is correct (the default is \"mm\", but your channel positions may be in different units).\n",
      "  post_raws = read_raw_eeglab(\n",
      "/var/folders/r3/bw3cwm6125lcm5h39987hgz80000gn/T/ipykernel_31422/4094743639.py:14: RuntimeWarning: Limited 2 annotation(s) that were expanding outside the data range.\n",
      "  post_raws = read_raw_eeglab(\n",
      "/var/folders/r3/bw3cwm6125lcm5h39987hgz80000gn/T/ipykernel_31422/4094743639.py:14: RuntimeWarning: The data contains 'boundary' events, indicating data discontinuities. Be cautious of filtering and epoching around these events.\n",
      "  post_raws = read_raw_eeglab(\n"
     ]
    },
    {
     "name": "stdout",
     "output_type": "stream",
     "text": [
      "Reading /Users/soroush/Documents/Code/freelance-project/vielight/vielight_close_loop/data/HD_5min40Hz_dur2_post2_RELAX.fdt\n",
      "Reading 0 ... 79249  =      0.000 ...   158.498 secs...\n"
     ]
    },
    {
     "name": "stderr",
     "output_type": "stream",
     "text": [
      "/var/folders/r3/bw3cwm6125lcm5h39987hgz80000gn/T/ipykernel_31422/4094743639.py:14: RuntimeWarning: Estimated head radius (0.0 cm) is below the 3rd percentile for infant head size. Check if the montage_units argument is correct (the default is \"mm\", but your channel positions may be in different units).\n",
      "  post_raws = read_raw_eeglab(\n",
      "/var/folders/r3/bw3cwm6125lcm5h39987hgz80000gn/T/ipykernel_31422/4094743639.py:14: RuntimeWarning: Limited 2 annotation(s) that were expanding outside the data range.\n",
      "  post_raws = read_raw_eeglab(\n",
      "/var/folders/r3/bw3cwm6125lcm5h39987hgz80000gn/T/ipykernel_31422/4094743639.py:14: RuntimeWarning: The data contains 'boundary' events, indicating data discontinuities. Be cautious of filtering and epoching around these events.\n",
      "  post_raws = read_raw_eeglab(\n"
     ]
    },
    {
     "name": "stdout",
     "output_type": "stream",
     "text": [
      "Reading /Users/soroush/Documents/Code/freelance-project/vielight/vielight_close_loop/data/HD_5min40Hz_dur3_post3_part2_RELAX.fdt\n",
      "Reading 0 ... 46999  =      0.000 ...    93.998 secs...\n"
     ]
    },
    {
     "name": "stderr",
     "output_type": "stream",
     "text": [
      "/var/folders/r3/bw3cwm6125lcm5h39987hgz80000gn/T/ipykernel_31422/4094743639.py:14: RuntimeWarning: Estimated head radius (0.0 cm) is below the 3rd percentile for infant head size. Check if the montage_units argument is correct (the default is \"mm\", but your channel positions may be in different units).\n",
      "  post_raws = read_raw_eeglab(\n",
      "/var/folders/r3/bw3cwm6125lcm5h39987hgz80000gn/T/ipykernel_31422/4094743639.py:14: RuntimeWarning: Limited 2 annotation(s) that were expanding outside the data range.\n",
      "  post_raws = read_raw_eeglab(\n",
      "/var/folders/r3/bw3cwm6125lcm5h39987hgz80000gn/T/ipykernel_31422/4094743639.py:14: RuntimeWarning: The data contains 'boundary' events, indicating data discontinuities. Be cautious of filtering and epoching around these events.\n",
      "  post_raws = read_raw_eeglab(\n"
     ]
    },
    {
     "data": {
      "text/plain": [
       "(98, 98)"
      ]
     },
     "execution_count": 46,
     "metadata": {},
     "output_type": "execute_result"
    }
   ],
   "source": [
    "epoch_length = 5\n",
    "overlap = 0.3\n",
    "eog = ()\n",
    "\n",
    "pre_epochs = []\n",
    "for input_fname in input_fnames[\"pre\"]:\n",
    "    pre_raws = read_raw_eeglab(\n",
    "        input_fname=input_fname, eog=eog, preload=True, montage_units=\"mm\", verbose=True\n",
    "    )\n",
    "    pre_epochs.extend(chunk_data(pre_raws, epoch_length=epoch_length, overlap=overlap))\n",
    "\n",
    "post_epochs = []\n",
    "for input_fname in input_fnames[\"post\"]:\n",
    "    post_raws = read_raw_eeglab(\n",
    "        input_fname=input_fname, eog=eog, preload=True, montage_units=\"mm\", verbose=True\n",
    "    )\n",
    "    post_epochs.extend(\n",
    "        chunk_data(post_raws, epoch_length=epoch_length, overlap=overlap)\n",
    "    )\n",
    "\n",
    "len(pre_epochs), len(post_epochs)"
   ]
  },
  {
   "cell_type": "code",
   "execution_count": 47,
   "metadata": {},
   "outputs": [],
   "source": [
    "pre_features = calculate_features(pre_epochs, is_channel_wise=False)  # 1 row per epoch\n",
    "post_features = calculate_features(\n",
    "    post_epochs, is_channel_wise=False\n",
    ")  # 1 row per epoch\n",
    "pre_features[\"label\"] = 0  # \"pre\"\n",
    "post_features[\"label\"] = 1  # \"post\"\n",
    "\n",
    "features = pd.concat([pre_features, post_features])"
   ]
  },
  {
   "cell_type": "code",
   "execution_count": 48,
   "metadata": {},
   "outputs": [
    {
     "data": {
      "text/html": [
       "<div>\n",
       "<style scoped>\n",
       "    .dataframe tbody tr th:only-of-type {\n",
       "        vertical-align: middle;\n",
       "    }\n",
       "\n",
       "    .dataframe tbody tr th {\n",
       "        vertical-align: top;\n",
       "    }\n",
       "\n",
       "    .dataframe thead th {\n",
       "        text-align: right;\n",
       "    }\n",
       "</style>\n",
       "<table border=\"1\" class=\"dataframe\">\n",
       "  <thead>\n",
       "    <tr style=\"text-align: right;\">\n",
       "      <th></th>\n",
       "      <th>mean</th>\n",
       "      <th>variance</th>\n",
       "      <th>std</th>\n",
       "      <th>peak_to_peak</th>\n",
       "      <th>rms</th>\n",
       "      <th>skewness</th>\n",
       "      <th>kurtosis</th>\n",
       "      <th>label</th>\n",
       "    </tr>\n",
       "  </thead>\n",
       "  <tbody>\n",
       "    <tr>\n",
       "      <th>0</th>\n",
       "      <td>3.458918e-09</td>\n",
       "      <td>4.647070e-11</td>\n",
       "      <td>0.000007</td>\n",
       "      <td>0.000040</td>\n",
       "      <td>0.000007</td>\n",
       "      <td>-0.065265</td>\n",
       "      <td>0.076149</td>\n",
       "      <td>0</td>\n",
       "    </tr>\n",
       "    <tr>\n",
       "      <th>1</th>\n",
       "      <td>-7.053781e-09</td>\n",
       "      <td>5.772735e-11</td>\n",
       "      <td>0.000007</td>\n",
       "      <td>0.000045</td>\n",
       "      <td>0.000007</td>\n",
       "      <td>-0.031451</td>\n",
       "      <td>0.200601</td>\n",
       "      <td>0</td>\n",
       "    </tr>\n",
       "    <tr>\n",
       "      <th>2</th>\n",
       "      <td>3.238938e-09</td>\n",
       "      <td>4.126980e-11</td>\n",
       "      <td>0.000006</td>\n",
       "      <td>0.000040</td>\n",
       "      <td>0.000006</td>\n",
       "      <td>-0.013794</td>\n",
       "      <td>0.300377</td>\n",
       "      <td>0</td>\n",
       "    </tr>\n",
       "    <tr>\n",
       "      <th>3</th>\n",
       "      <td>4.539961e-09</td>\n",
       "      <td>4.750676e-11</td>\n",
       "      <td>0.000007</td>\n",
       "      <td>0.000039</td>\n",
       "      <td>0.000007</td>\n",
       "      <td>-0.037914</td>\n",
       "      <td>-0.095478</td>\n",
       "      <td>0</td>\n",
       "    </tr>\n",
       "    <tr>\n",
       "      <th>4</th>\n",
       "      <td>2.768251e-09</td>\n",
       "      <td>5.187479e-11</td>\n",
       "      <td>0.000007</td>\n",
       "      <td>0.000045</td>\n",
       "      <td>0.000007</td>\n",
       "      <td>-0.060547</td>\n",
       "      <td>0.560251</td>\n",
       "      <td>0</td>\n",
       "    </tr>\n",
       "    <tr>\n",
       "      <th>...</th>\n",
       "      <td>...</td>\n",
       "      <td>...</td>\n",
       "      <td>...</td>\n",
       "      <td>...</td>\n",
       "      <td>...</td>\n",
       "      <td>...</td>\n",
       "      <td>...</td>\n",
       "      <td>...</td>\n",
       "    </tr>\n",
       "    <tr>\n",
       "      <th>93</th>\n",
       "      <td>4.883767e-09</td>\n",
       "      <td>8.152741e-11</td>\n",
       "      <td>0.000009</td>\n",
       "      <td>0.000052</td>\n",
       "      <td>0.000009</td>\n",
       "      <td>-0.004758</td>\n",
       "      <td>-0.058619</td>\n",
       "      <td>1</td>\n",
       "    </tr>\n",
       "    <tr>\n",
       "      <th>94</th>\n",
       "      <td>-5.561402e-09</td>\n",
       "      <td>6.497994e-11</td>\n",
       "      <td>0.000008</td>\n",
       "      <td>0.000050</td>\n",
       "      <td>0.000008</td>\n",
       "      <td>-0.029181</td>\n",
       "      <td>0.243654</td>\n",
       "      <td>1</td>\n",
       "    </tr>\n",
       "    <tr>\n",
       "      <th>95</th>\n",
       "      <td>2.360824e-09</td>\n",
       "      <td>4.935580e-11</td>\n",
       "      <td>0.000007</td>\n",
       "      <td>0.000044</td>\n",
       "      <td>0.000007</td>\n",
       "      <td>-0.003912</td>\n",
       "      <td>0.194677</td>\n",
       "      <td>1</td>\n",
       "    </tr>\n",
       "    <tr>\n",
       "      <th>96</th>\n",
       "      <td>-1.393233e-09</td>\n",
       "      <td>3.491352e-11</td>\n",
       "      <td>0.000006</td>\n",
       "      <td>0.000035</td>\n",
       "      <td>0.000006</td>\n",
       "      <td>0.006357</td>\n",
       "      <td>0.142415</td>\n",
       "      <td>1</td>\n",
       "    </tr>\n",
       "    <tr>\n",
       "      <th>97</th>\n",
       "      <td>-3.413269e-09</td>\n",
       "      <td>3.823862e-11</td>\n",
       "      <td>0.000006</td>\n",
       "      <td>0.000040</td>\n",
       "      <td>0.000006</td>\n",
       "      <td>-0.118211</td>\n",
       "      <td>0.483666</td>\n",
       "      <td>1</td>\n",
       "    </tr>\n",
       "  </tbody>\n",
       "</table>\n",
       "<p>196 rows × 8 columns</p>\n",
       "</div>"
      ],
      "text/plain": [
       "            mean      variance       std  peak_to_peak       rms  skewness  \\\n",
       "0   3.458918e-09  4.647070e-11  0.000007      0.000040  0.000007 -0.065265   \n",
       "1  -7.053781e-09  5.772735e-11  0.000007      0.000045  0.000007 -0.031451   \n",
       "2   3.238938e-09  4.126980e-11  0.000006      0.000040  0.000006 -0.013794   \n",
       "3   4.539961e-09  4.750676e-11  0.000007      0.000039  0.000007 -0.037914   \n",
       "4   2.768251e-09  5.187479e-11  0.000007      0.000045  0.000007 -0.060547   \n",
       "..           ...           ...       ...           ...       ...       ...   \n",
       "93  4.883767e-09  8.152741e-11  0.000009      0.000052  0.000009 -0.004758   \n",
       "94 -5.561402e-09  6.497994e-11  0.000008      0.000050  0.000008 -0.029181   \n",
       "95  2.360824e-09  4.935580e-11  0.000007      0.000044  0.000007 -0.003912   \n",
       "96 -1.393233e-09  3.491352e-11  0.000006      0.000035  0.000006  0.006357   \n",
       "97 -3.413269e-09  3.823862e-11  0.000006      0.000040  0.000006 -0.118211   \n",
       "\n",
       "    kurtosis  label  \n",
       "0   0.076149      0  \n",
       "1   0.200601      0  \n",
       "2   0.300377      0  \n",
       "3  -0.095478      0  \n",
       "4   0.560251      0  \n",
       "..       ...    ...  \n",
       "93 -0.058619      1  \n",
       "94  0.243654      1  \n",
       "95  0.194677      1  \n",
       "96  0.142415      1  \n",
       "97  0.483666      1  \n",
       "\n",
       "[196 rows x 8 columns]"
      ]
     },
     "execution_count": 48,
     "metadata": {},
     "output_type": "execute_result"
    }
   ],
   "source": [
    "features"
   ]
  },
  {
   "cell_type": "markdown",
   "metadata": {},
   "source": [
    "# Performing supervise learning to see how can these signals be differenciate from each other?\n",
    "\n",
    "- Zero, this is average of whole channels\n",
    "- First using the whole features\n",
    "- Second using every signle features\n",
    "- Using 10 split of data\n",
    "- First standarize our features\n",
    "- Second use several machine learning algorithms to tackle the problem\n",
    "- Third trying to find best parameter for each training"
   ]
  },
  {
   "cell_type": "code",
   "execution_count": 49,
   "metadata": {},
   "outputs": [
    {
     "name": "stderr",
     "output_type": "stream",
     "text": [
      " 17%|█▋        | 1/6 [00:00<00:01,  3.74it/s]"
     ]
    },
    {
     "name": "stdout",
     "output_type": "stream",
     "text": [
      "Best parameters for SVM: {'svm__C': 1, 'svm__kernel': 'linear'}\n",
      "Best cross-validation score for SVM: 0.609\n",
      "Best parameters for Decision_Tree: {'decision_tree__max_depth': 10, 'decision_tree__min_samples_split': 5}\n",
      "Best cross-validation score for Decision_Tree: 0.538\n",
      "Best parameters for LDA: {'lda__solver': 'svd'}\n",
      "Best cross-validation score for LDA: 0.615\n"
     ]
    },
    {
     "name": "stderr",
     "output_type": "stream",
     "text": [
      "/Users/soroush/Documents/Code/freelance-project/vielight/vielight_close_loop/.venv/lib/python3.9/site-packages/sklearn/neural_network/_multilayer_perceptron.py:691: ConvergenceWarning: Stochastic Optimizer: Maximum iterations (1000) reached and the optimization hasn't converged yet.\n",
      "  warnings.warn(\n",
      "/Users/soroush/Documents/Code/freelance-project/vielight/vielight_close_loop/.venv/lib/python3.9/site-packages/sklearn/neural_network/_multilayer_perceptron.py:691: ConvergenceWarning: Stochastic Optimizer: Maximum iterations (1000) reached and the optimization hasn't converged yet.\n",
      "  warnings.warn(\n",
      "/Users/soroush/Documents/Code/freelance-project/vielight/vielight_close_loop/.venv/lib/python3.9/site-packages/sklearn/neural_network/_multilayer_perceptron.py:691: ConvergenceWarning: Stochastic Optimizer: Maximum iterations (1000) reached and the optimization hasn't converged yet.\n",
      "  warnings.warn(\n",
      "/Users/soroush/Documents/Code/freelance-project/vielight/vielight_close_loop/.venv/lib/python3.9/site-packages/sklearn/neural_network/_multilayer_perceptron.py:691: ConvergenceWarning: Stochastic Optimizer: Maximum iterations (1000) reached and the optimization hasn't converged yet.\n",
      "  warnings.warn(\n",
      "/Users/soroush/Documents/Code/freelance-project/vielight/vielight_close_loop/.venv/lib/python3.9/site-packages/sklearn/neural_network/_multilayer_perceptron.py:691: ConvergenceWarning: Stochastic Optimizer: Maximum iterations (1000) reached and the optimization hasn't converged yet.\n",
      "  warnings.warn(\n",
      "/Users/soroush/Documents/Code/freelance-project/vielight/vielight_close_loop/.venv/lib/python3.9/site-packages/sklearn/neural_network/_multilayer_perceptron.py:691: ConvergenceWarning: Stochastic Optimizer: Maximum iterations (1000) reached and the optimization hasn't converged yet.\n",
      "  warnings.warn(\n",
      "/Users/soroush/Documents/Code/freelance-project/vielight/vielight_close_loop/.venv/lib/python3.9/site-packages/sklearn/neural_network/_multilayer_perceptron.py:691: ConvergenceWarning: Stochastic Optimizer: Maximum iterations (1000) reached and the optimization hasn't converged yet.\n",
      "  warnings.warn(\n",
      "/Users/soroush/Documents/Code/freelance-project/vielight/vielight_close_loop/.venv/lib/python3.9/site-packages/sklearn/neural_network/_multilayer_perceptron.py:691: ConvergenceWarning: Stochastic Optimizer: Maximum iterations (1000) reached and the optimization hasn't converged yet.\n",
      "  warnings.warn(\n",
      "/Users/soroush/Documents/Code/freelance-project/vielight/vielight_close_loop/.venv/lib/python3.9/site-packages/sklearn/neural_network/_multilayer_perceptron.py:691: ConvergenceWarning: Stochastic Optimizer: Maximum iterations (1000) reached and the optimization hasn't converged yet.\n",
      "  warnings.warn(\n",
      "/Users/soroush/Documents/Code/freelance-project/vielight/vielight_close_loop/.venv/lib/python3.9/site-packages/sklearn/neural_network/_multilayer_perceptron.py:691: ConvergenceWarning: Stochastic Optimizer: Maximum iterations (1000) reached and the optimization hasn't converged yet.\n",
      "  warnings.warn(\n",
      "/Users/soroush/Documents/Code/freelance-project/vielight/vielight_close_loop/.venv/lib/python3.9/site-packages/sklearn/neural_network/_multilayer_perceptron.py:691: ConvergenceWarning: Stochastic Optimizer: Maximum iterations (1000) reached and the optimization hasn't converged yet.\n",
      "  warnings.warn(\n",
      "/Users/soroush/Documents/Code/freelance-project/vielight/vielight_close_loop/.venv/lib/python3.9/site-packages/sklearn/neural_network/_multilayer_perceptron.py:691: ConvergenceWarning: Stochastic Optimizer: Maximum iterations (1000) reached and the optimization hasn't converged yet.\n",
      "  warnings.warn(\n",
      "/Users/soroush/Documents/Code/freelance-project/vielight/vielight_close_loop/.venv/lib/python3.9/site-packages/sklearn/neural_network/_multilayer_perceptron.py:691: ConvergenceWarning: Stochastic Optimizer: Maximum iterations (1000) reached and the optimization hasn't converged yet.\n",
      "  warnings.warn(\n",
      "/Users/soroush/Documents/Code/freelance-project/vielight/vielight_close_loop/.venv/lib/python3.9/site-packages/sklearn/neural_network/_multilayer_perceptron.py:691: ConvergenceWarning: Stochastic Optimizer: Maximum iterations (1000) reached and the optimization hasn't converged yet.\n",
      "  warnings.warn(\n",
      "/Users/soroush/Documents/Code/freelance-project/vielight/vielight_close_loop/.venv/lib/python3.9/site-packages/sklearn/neural_network/_multilayer_perceptron.py:691: ConvergenceWarning: Stochastic Optimizer: Maximum iterations (1000) reached and the optimization hasn't converged yet.\n",
      "  warnings.warn(\n",
      "/Users/soroush/Documents/Code/freelance-project/vielight/vielight_close_loop/.venv/lib/python3.9/site-packages/sklearn/neural_network/_multilayer_perceptron.py:691: ConvergenceWarning: Stochastic Optimizer: Maximum iterations (1000) reached and the optimization hasn't converged yet.\n",
      "  warnings.warn(\n",
      "/Users/soroush/Documents/Code/freelance-project/vielight/vielight_close_loop/.venv/lib/python3.9/site-packages/sklearn/neural_network/_multilayer_perceptron.py:691: ConvergenceWarning: Stochastic Optimizer: Maximum iterations (1000) reached and the optimization hasn't converged yet.\n",
      "  warnings.warn(\n",
      "/Users/soroush/Documents/Code/freelance-project/vielight/vielight_close_loop/.venv/lib/python3.9/site-packages/sklearn/neural_network/_multilayer_perceptron.py:691: ConvergenceWarning: Stochastic Optimizer: Maximum iterations (1000) reached and the optimization hasn't converged yet.\n",
      "  warnings.warn(\n",
      "/Users/soroush/Documents/Code/freelance-project/vielight/vielight_close_loop/.venv/lib/python3.9/site-packages/sklearn/neural_network/_multilayer_perceptron.py:691: ConvergenceWarning: Stochastic Optimizer: Maximum iterations (1000) reached and the optimization hasn't converged yet.\n",
      "  warnings.warn(\n",
      "/Users/soroush/Documents/Code/freelance-project/vielight/vielight_close_loop/.venv/lib/python3.9/site-packages/sklearn/neural_network/_multilayer_perceptron.py:691: ConvergenceWarning: Stochastic Optimizer: Maximum iterations (1000) reached and the optimization hasn't converged yet.\n",
      "  warnings.warn(\n",
      "/Users/soroush/Documents/Code/freelance-project/vielight/vielight_close_loop/.venv/lib/python3.9/site-packages/sklearn/neural_network/_multilayer_perceptron.py:691: ConvergenceWarning: Stochastic Optimizer: Maximum iterations (1000) reached and the optimization hasn't converged yet.\n",
      "  warnings.warn(\n",
      "/Users/soroush/Documents/Code/freelance-project/vielight/vielight_close_loop/.venv/lib/python3.9/site-packages/sklearn/neural_network/_multilayer_perceptron.py:691: ConvergenceWarning: Stochastic Optimizer: Maximum iterations (1000) reached and the optimization hasn't converged yet.\n",
      "  warnings.warn(\n",
      "/Users/soroush/Documents/Code/freelance-project/vielight/vielight_close_loop/.venv/lib/python3.9/site-packages/sklearn/neural_network/_multilayer_perceptron.py:691: ConvergenceWarning: Stochastic Optimizer: Maximum iterations (1000) reached and the optimization hasn't converged yet.\n",
      "  warnings.warn(\n",
      "/Users/soroush/Documents/Code/freelance-project/vielight/vielight_close_loop/.venv/lib/python3.9/site-packages/sklearn/neural_network/_multilayer_perceptron.py:691: ConvergenceWarning: Stochastic Optimizer: Maximum iterations (1000) reached and the optimization hasn't converged yet.\n",
      "  warnings.warn(\n",
      "/Users/soroush/Documents/Code/freelance-project/vielight/vielight_close_loop/.venv/lib/python3.9/site-packages/sklearn/neural_network/_multilayer_perceptron.py:691: ConvergenceWarning: Stochastic Optimizer: Maximum iterations (1000) reached and the optimization hasn't converged yet.\n",
      "  warnings.warn(\n",
      "/Users/soroush/Documents/Code/freelance-project/vielight/vielight_close_loop/.venv/lib/python3.9/site-packages/sklearn/neural_network/_multilayer_perceptron.py:691: ConvergenceWarning: Stochastic Optimizer: Maximum iterations (1000) reached and the optimization hasn't converged yet.\n",
      "  warnings.warn(\n",
      "/Users/soroush/Documents/Code/freelance-project/vielight/vielight_close_loop/.venv/lib/python3.9/site-packages/sklearn/neural_network/_multilayer_perceptron.py:691: ConvergenceWarning: Stochastic Optimizer: Maximum iterations (1000) reached and the optimization hasn't converged yet.\n",
      "  warnings.warn(\n",
      "/Users/soroush/Documents/Code/freelance-project/vielight/vielight_close_loop/.venv/lib/python3.9/site-packages/sklearn/neural_network/_multilayer_perceptron.py:691: ConvergenceWarning: Stochastic Optimizer: Maximum iterations (1000) reached and the optimization hasn't converged yet.\n",
      "  warnings.warn(\n",
      "/Users/soroush/Documents/Code/freelance-project/vielight/vielight_close_loop/.venv/lib/python3.9/site-packages/sklearn/neural_network/_multilayer_perceptron.py:691: ConvergenceWarning: Stochastic Optimizer: Maximum iterations (1000) reached and the optimization hasn't converged yet.\n",
      "  warnings.warn(\n",
      "/Users/soroush/Documents/Code/freelance-project/vielight/vielight_close_loop/.venv/lib/python3.9/site-packages/sklearn/neural_network/_multilayer_perceptron.py:691: ConvergenceWarning: Stochastic Optimizer: Maximum iterations (1000) reached and the optimization hasn't converged yet.\n",
      "  warnings.warn(\n",
      "/Users/soroush/Documents/Code/freelance-project/vielight/vielight_close_loop/.venv/lib/python3.9/site-packages/sklearn/neural_network/_multilayer_perceptron.py:691: ConvergenceWarning: Stochastic Optimizer: Maximum iterations (1000) reached and the optimization hasn't converged yet.\n",
      "  warnings.warn(\n",
      "/Users/soroush/Documents/Code/freelance-project/vielight/vielight_close_loop/.venv/lib/python3.9/site-packages/sklearn/neural_network/_multilayer_perceptron.py:691: ConvergenceWarning: Stochastic Optimizer: Maximum iterations (1000) reached and the optimization hasn't converged yet.\n",
      "  warnings.warn(\n",
      "/Users/soroush/Documents/Code/freelance-project/vielight/vielight_close_loop/.venv/lib/python3.9/site-packages/sklearn/neural_network/_multilayer_perceptron.py:691: ConvergenceWarning: Stochastic Optimizer: Maximum iterations (1000) reached and the optimization hasn't converged yet.\n",
      "  warnings.warn(\n",
      "/Users/soroush/Documents/Code/freelance-project/vielight/vielight_close_loop/.venv/lib/python3.9/site-packages/sklearn/neural_network/_multilayer_perceptron.py:691: ConvergenceWarning: Stochastic Optimizer: Maximum iterations (1000) reached and the optimization hasn't converged yet.\n",
      "  warnings.warn(\n",
      "/Users/soroush/Documents/Code/freelance-project/vielight/vielight_close_loop/.venv/lib/python3.9/site-packages/sklearn/neural_network/_multilayer_perceptron.py:691: ConvergenceWarning: Stochastic Optimizer: Maximum iterations (1000) reached and the optimization hasn't converged yet.\n",
      "  warnings.warn(\n",
      "/Users/soroush/Documents/Code/freelance-project/vielight/vielight_close_loop/.venv/lib/python3.9/site-packages/sklearn/neural_network/_multilayer_perceptron.py:691: ConvergenceWarning: Stochastic Optimizer: Maximum iterations (1000) reached and the optimization hasn't converged yet.\n",
      "  warnings.warn(\n",
      "/Users/soroush/Documents/Code/freelance-project/vielight/vielight_close_loop/.venv/lib/python3.9/site-packages/sklearn/neural_network/_multilayer_perceptron.py:691: ConvergenceWarning: Stochastic Optimizer: Maximum iterations (1000) reached and the optimization hasn't converged yet.\n",
      "  warnings.warn(\n",
      "/Users/soroush/Documents/Code/freelance-project/vielight/vielight_close_loop/.venv/lib/python3.9/site-packages/sklearn/neural_network/_multilayer_perceptron.py:691: ConvergenceWarning: Stochastic Optimizer: Maximum iterations (1000) reached and the optimization hasn't converged yet.\n",
      "  warnings.warn(\n",
      "/Users/soroush/Documents/Code/freelance-project/vielight/vielight_close_loop/.venv/lib/python3.9/site-packages/sklearn/neural_network/_multilayer_perceptron.py:691: ConvergenceWarning: Stochastic Optimizer: Maximum iterations (1000) reached and the optimization hasn't converged yet.\n",
      "  warnings.warn(\n",
      "/Users/soroush/Documents/Code/freelance-project/vielight/vielight_close_loop/.venv/lib/python3.9/site-packages/sklearn/neural_network/_multilayer_perceptron.py:691: ConvergenceWarning: Stochastic Optimizer: Maximum iterations (1000) reached and the optimization hasn't converged yet.\n",
      "  warnings.warn(\n",
      "/Users/soroush/Documents/Code/freelance-project/vielight/vielight_close_loop/.venv/lib/python3.9/site-packages/sklearn/neural_network/_multilayer_perceptron.py:691: ConvergenceWarning: Stochastic Optimizer: Maximum iterations (1000) reached and the optimization hasn't converged yet.\n",
      "  warnings.warn(\n",
      "/Users/soroush/Documents/Code/freelance-project/vielight/vielight_close_loop/.venv/lib/python3.9/site-packages/sklearn/neural_network/_multilayer_perceptron.py:691: ConvergenceWarning: Stochastic Optimizer: Maximum iterations (1000) reached and the optimization hasn't converged yet.\n",
      "  warnings.warn(\n",
      "/Users/soroush/Documents/Code/freelance-project/vielight/vielight_close_loop/.venv/lib/python3.9/site-packages/sklearn/neural_network/_multilayer_perceptron.py:691: ConvergenceWarning: Stochastic Optimizer: Maximum iterations (1000) reached and the optimization hasn't converged yet.\n",
      "  warnings.warn(\n",
      "/Users/soroush/Documents/Code/freelance-project/vielight/vielight_close_loop/.venv/lib/python3.9/site-packages/sklearn/neural_network/_multilayer_perceptron.py:691: ConvergenceWarning: Stochastic Optimizer: Maximum iterations (1000) reached and the optimization hasn't converged yet.\n",
      "  warnings.warn(\n",
      "/Users/soroush/Documents/Code/freelance-project/vielight/vielight_close_loop/.venv/lib/python3.9/site-packages/sklearn/neural_network/_multilayer_perceptron.py:691: ConvergenceWarning: Stochastic Optimizer: Maximum iterations (1000) reached and the optimization hasn't converged yet.\n",
      "  warnings.warn(\n",
      "/Users/soroush/Documents/Code/freelance-project/vielight/vielight_close_loop/.venv/lib/python3.9/site-packages/sklearn/neural_network/_multilayer_perceptron.py:691: ConvergenceWarning: Stochastic Optimizer: Maximum iterations (1000) reached and the optimization hasn't converged yet.\n",
      "  warnings.warn(\n",
      "/Users/soroush/Documents/Code/freelance-project/vielight/vielight_close_loop/.venv/lib/python3.9/site-packages/sklearn/neural_network/_multilayer_perceptron.py:691: ConvergenceWarning: Stochastic Optimizer: Maximum iterations (1000) reached and the optimization hasn't converged yet.\n",
      "  warnings.warn(\n",
      "/Users/soroush/Documents/Code/freelance-project/vielight/vielight_close_loop/.venv/lib/python3.9/site-packages/sklearn/neural_network/_multilayer_perceptron.py:691: ConvergenceWarning: Stochastic Optimizer: Maximum iterations (1000) reached and the optimization hasn't converged yet.\n",
      "  warnings.warn(\n",
      "/Users/soroush/Documents/Code/freelance-project/vielight/vielight_close_loop/.venv/lib/python3.9/site-packages/sklearn/neural_network/_multilayer_perceptron.py:691: ConvergenceWarning: Stochastic Optimizer: Maximum iterations (1000) reached and the optimization hasn't converged yet.\n",
      "  warnings.warn(\n",
      "/Users/soroush/Documents/Code/freelance-project/vielight/vielight_close_loop/.venv/lib/python3.9/site-packages/sklearn/neural_network/_multilayer_perceptron.py:691: ConvergenceWarning: Stochastic Optimizer: Maximum iterations (1000) reached and the optimization hasn't converged yet.\n",
      "  warnings.warn(\n",
      "/Users/soroush/Documents/Code/freelance-project/vielight/vielight_close_loop/.venv/lib/python3.9/site-packages/sklearn/neural_network/_multilayer_perceptron.py:691: ConvergenceWarning: Stochastic Optimizer: Maximum iterations (1000) reached and the optimization hasn't converged yet.\n",
      "  warnings.warn(\n",
      "/Users/soroush/Documents/Code/freelance-project/vielight/vielight_close_loop/.venv/lib/python3.9/site-packages/sklearn/neural_network/_multilayer_perceptron.py:691: ConvergenceWarning: Stochastic Optimizer: Maximum iterations (1000) reached and the optimization hasn't converged yet.\n",
      "  warnings.warn(\n",
      "/Users/soroush/Documents/Code/freelance-project/vielight/vielight_close_loop/.venv/lib/python3.9/site-packages/sklearn/neural_network/_multilayer_perceptron.py:691: ConvergenceWarning: Stochastic Optimizer: Maximum iterations (1000) reached and the optimization hasn't converged yet.\n",
      "  warnings.warn(\n",
      "/Users/soroush/Documents/Code/freelance-project/vielight/vielight_close_loop/.venv/lib/python3.9/site-packages/sklearn/neural_network/_multilayer_perceptron.py:691: ConvergenceWarning: Stochastic Optimizer: Maximum iterations (1000) reached and the optimization hasn't converged yet.\n",
      "  warnings.warn(\n",
      "/Users/soroush/Documents/Code/freelance-project/vielight/vielight_close_loop/.venv/lib/python3.9/site-packages/sklearn/neural_network/_multilayer_perceptron.py:691: ConvergenceWarning: Stochastic Optimizer: Maximum iterations (1000) reached and the optimization hasn't converged yet.\n",
      "  warnings.warn(\n",
      "/Users/soroush/Documents/Code/freelance-project/vielight/vielight_close_loop/.venv/lib/python3.9/site-packages/sklearn/neural_network/_multilayer_perceptron.py:691: ConvergenceWarning: Stochastic Optimizer: Maximum iterations (1000) reached and the optimization hasn't converged yet.\n",
      "  warnings.warn(\n",
      "/Users/soroush/Documents/Code/freelance-project/vielight/vielight_close_loop/.venv/lib/python3.9/site-packages/sklearn/neural_network/_multilayer_perceptron.py:691: ConvergenceWarning: Stochastic Optimizer: Maximum iterations (1000) reached and the optimization hasn't converged yet.\n",
      "  warnings.warn(\n",
      "/Users/soroush/Documents/Code/freelance-project/vielight/vielight_close_loop/.venv/lib/python3.9/site-packages/sklearn/neural_network/_multilayer_perceptron.py:691: ConvergenceWarning: Stochastic Optimizer: Maximum iterations (1000) reached and the optimization hasn't converged yet.\n",
      "  warnings.warn(\n",
      "/Users/soroush/Documents/Code/freelance-project/vielight/vielight_close_loop/.venv/lib/python3.9/site-packages/sklearn/neural_network/_multilayer_perceptron.py:691: ConvergenceWarning: Stochastic Optimizer: Maximum iterations (1000) reached and the optimization hasn't converged yet.\n",
      "  warnings.warn(\n",
      "/Users/soroush/Documents/Code/freelance-project/vielight/vielight_close_loop/.venv/lib/python3.9/site-packages/sklearn/neural_network/_multilayer_perceptron.py:691: ConvergenceWarning: Stochastic Optimizer: Maximum iterations (1000) reached and the optimization hasn't converged yet.\n",
      "  warnings.warn(\n",
      "/Users/soroush/Documents/Code/freelance-project/vielight/vielight_close_loop/.venv/lib/python3.9/site-packages/sklearn/neural_network/_multilayer_perceptron.py:691: ConvergenceWarning: Stochastic Optimizer: Maximum iterations (1000) reached and the optimization hasn't converged yet.\n",
      "  warnings.warn(\n",
      "/Users/soroush/Documents/Code/freelance-project/vielight/vielight_close_loop/.venv/lib/python3.9/site-packages/sklearn/neural_network/_multilayer_perceptron.py:691: ConvergenceWarning: Stochastic Optimizer: Maximum iterations (1000) reached and the optimization hasn't converged yet.\n",
      "  warnings.warn(\n",
      "/Users/soroush/Documents/Code/freelance-project/vielight/vielight_close_loop/.venv/lib/python3.9/site-packages/sklearn/neural_network/_multilayer_perceptron.py:691: ConvergenceWarning: Stochastic Optimizer: Maximum iterations (1000) reached and the optimization hasn't converged yet.\n",
      "  warnings.warn(\n",
      "/Users/soroush/Documents/Code/freelance-project/vielight/vielight_close_loop/.venv/lib/python3.9/site-packages/sklearn/neural_network/_multilayer_perceptron.py:691: ConvergenceWarning: Stochastic Optimizer: Maximum iterations (1000) reached and the optimization hasn't converged yet.\n",
      "  warnings.warn(\n",
      "/Users/soroush/Documents/Code/freelance-project/vielight/vielight_close_loop/.venv/lib/python3.9/site-packages/sklearn/neural_network/_multilayer_perceptron.py:691: ConvergenceWarning: Stochastic Optimizer: Maximum iterations (1000) reached and the optimization hasn't converged yet.\n",
      "  warnings.warn(\n",
      "/Users/soroush/Documents/Code/freelance-project/vielight/vielight_close_loop/.venv/lib/python3.9/site-packages/sklearn/neural_network/_multilayer_perceptron.py:691: ConvergenceWarning: Stochastic Optimizer: Maximum iterations (1000) reached and the optimization hasn't converged yet.\n",
      "  warnings.warn(\n",
      "/Users/soroush/Documents/Code/freelance-project/vielight/vielight_close_loop/.venv/lib/python3.9/site-packages/sklearn/neural_network/_multilayer_perceptron.py:691: ConvergenceWarning: Stochastic Optimizer: Maximum iterations (1000) reached and the optimization hasn't converged yet.\n",
      "  warnings.warn(\n",
      "/Users/soroush/Documents/Code/freelance-project/vielight/vielight_close_loop/.venv/lib/python3.9/site-packages/sklearn/neural_network/_multilayer_perceptron.py:691: ConvergenceWarning: Stochastic Optimizer: Maximum iterations (1000) reached and the optimization hasn't converged yet.\n",
      "  warnings.warn(\n",
      "/Users/soroush/Documents/Code/freelance-project/vielight/vielight_close_loop/.venv/lib/python3.9/site-packages/sklearn/neural_network/_multilayer_perceptron.py:691: ConvergenceWarning: Stochastic Optimizer: Maximum iterations (1000) reached and the optimization hasn't converged yet.\n",
      "  warnings.warn(\n",
      "/Users/soroush/Documents/Code/freelance-project/vielight/vielight_close_loop/.venv/lib/python3.9/site-packages/sklearn/neural_network/_multilayer_perceptron.py:691: ConvergenceWarning: Stochastic Optimizer: Maximum iterations (1000) reached and the optimization hasn't converged yet.\n",
      "  warnings.warn(\n",
      "/Users/soroush/Documents/Code/freelance-project/vielight/vielight_close_loop/.venv/lib/python3.9/site-packages/sklearn/neural_network/_multilayer_perceptron.py:691: ConvergenceWarning: Stochastic Optimizer: Maximum iterations (1000) reached and the optimization hasn't converged yet.\n",
      "  warnings.warn(\n",
      "/Users/soroush/Documents/Code/freelance-project/vielight/vielight_close_loop/.venv/lib/python3.9/site-packages/sklearn/neural_network/_multilayer_perceptron.py:691: ConvergenceWarning: Stochastic Optimizer: Maximum iterations (1000) reached and the optimization hasn't converged yet.\n",
      "  warnings.warn(\n",
      "/Users/soroush/Documents/Code/freelance-project/vielight/vielight_close_loop/.venv/lib/python3.9/site-packages/sklearn/neural_network/_multilayer_perceptron.py:691: ConvergenceWarning: Stochastic Optimizer: Maximum iterations (1000) reached and the optimization hasn't converged yet.\n",
      "  warnings.warn(\n",
      "/Users/soroush/Documents/Code/freelance-project/vielight/vielight_close_loop/.venv/lib/python3.9/site-packages/sklearn/neural_network/_multilayer_perceptron.py:691: ConvergenceWarning: Stochastic Optimizer: Maximum iterations (1000) reached and the optimization hasn't converged yet.\n",
      "  warnings.warn(\n",
      "/Users/soroush/Documents/Code/freelance-project/vielight/vielight_close_loop/.venv/lib/python3.9/site-packages/sklearn/neural_network/_multilayer_perceptron.py:691: ConvergenceWarning: Stochastic Optimizer: Maximum iterations (1000) reached and the optimization hasn't converged yet.\n",
      "  warnings.warn(\n",
      "/Users/soroush/Documents/Code/freelance-project/vielight/vielight_close_loop/.venv/lib/python3.9/site-packages/sklearn/neural_network/_multilayer_perceptron.py:691: ConvergenceWarning: Stochastic Optimizer: Maximum iterations (1000) reached and the optimization hasn't converged yet.\n",
      "  warnings.warn(\n",
      "/Users/soroush/Documents/Code/freelance-project/vielight/vielight_close_loop/.venv/lib/python3.9/site-packages/sklearn/neural_network/_multilayer_perceptron.py:691: ConvergenceWarning: Stochastic Optimizer: Maximum iterations (1000) reached and the optimization hasn't converged yet.\n",
      "  warnings.warn(\n",
      " 67%|██████▋   | 4/6 [00:08<00:04,  2.36s/it]"
     ]
    },
    {
     "name": "stdout",
     "output_type": "stream",
     "text": [
      "Best parameters for MLP: {'mlp__activation': 'tanh', 'mlp__alpha': 0.001, 'mlp__hidden_layer_sizes': (100,)}\n",
      "Best cross-validation score for MLP: 0.596\n"
     ]
    },
    {
     "name": "stderr",
     "output_type": "stream",
     "text": [
      " 83%|████████▎ | 5/6 [00:09<00:01,  1.83s/it]"
     ]
    },
    {
     "name": "stdout",
     "output_type": "stream",
     "text": [
      "Best parameters for RandomForestClassifier: {'randomforestclassifier__max_features': 'sqrt', 'randomforestclassifier__n_estimators': 50}\n",
      "Best cross-validation score for RandomForestClassifier: 0.602\n"
     ]
    },
    {
     "name": "stderr",
     "output_type": "stream",
     "text": [
      "100%|██████████| 6/6 [00:10<00:00,  1.71s/it]\n"
     ]
    },
    {
     "name": "stdout",
     "output_type": "stream",
     "text": [
      "Best parameters for XGBClassifier: {'xgbclassifier__learning_rate': 0.1, 'xgbclassifier__n_estimators': 100, 'xgbclassifier__subsample': 0.8}\n",
      "Best cross-validation score for XGBClassifier: 0.616\n"
     ]
    },
    {
     "name": "stderr",
     "output_type": "stream",
     "text": [
      " 17%|█▋        | 1/6 [00:00<00:00,  9.22it/s]"
     ]
    },
    {
     "name": "stdout",
     "output_type": "stream",
     "text": [
      "Best parameters for SVM: {'svm__C': 0.1, 'svm__kernel': 'linear'}\n",
      "Best cross-validation score for SVM: 0.610\n",
      "Best parameters for Decision_Tree: {'decision_tree__max_depth': 5, 'decision_tree__min_samples_split': 5}\n",
      "Best cross-validation score for Decision_Tree: 0.571\n",
      "Best parameters for LDA: {'lda__solver': 'svd'}\n",
      "Best cross-validation score for LDA: 0.597\n"
     ]
    },
    {
     "name": "stderr",
     "output_type": "stream",
     "text": [
      " 67%|██████▋   | 4/6 [00:00<00:00,  4.67it/s]"
     ]
    },
    {
     "name": "stdout",
     "output_type": "stream",
     "text": [
      "Best parameters for MLP: {'mlp__activation': 'tanh', 'mlp__alpha': 0.0001, 'mlp__hidden_layer_sizes': (100,)}\n",
      "Best cross-validation score for MLP: 0.603\n"
     ]
    },
    {
     "name": "stderr",
     "output_type": "stream",
     "text": [
      " 83%|████████▎ | 5/6 [00:01<00:00,  3.76it/s]"
     ]
    },
    {
     "name": "stdout",
     "output_type": "stream",
     "text": [
      "Best parameters for RandomForestClassifier: {'randomforestclassifier__max_features': 'sqrt', 'randomforestclassifier__n_estimators': 40}\n",
      "Best cross-validation score for RandomForestClassifier: 0.519\n"
     ]
    },
    {
     "name": "stderr",
     "output_type": "stream",
     "text": [
      "100%|██████████| 6/6 [00:02<00:00,  2.97it/s]\n"
     ]
    },
    {
     "name": "stdout",
     "output_type": "stream",
     "text": [
      "Best parameters for XGBClassifier: {'xgbclassifier__learning_rate': 0.1, 'xgbclassifier__n_estimators': 100, 'xgbclassifier__subsample': 0.7}\n",
      "Best cross-validation score for XGBClassifier: 0.640\n"
     ]
    },
    {
     "name": "stderr",
     "output_type": "stream",
     "text": [
      " 17%|█▋        | 1/6 [00:00<00:00,  9.20it/s]"
     ]
    },
    {
     "name": "stdout",
     "output_type": "stream",
     "text": [
      "Best parameters for SVM: {'svm__C': 1, 'svm__kernel': 'linear'}\n",
      "Best cross-validation score for SVM: 0.564\n",
      "Best parameters for Decision_Tree: {'decision_tree__max_depth': 3, 'decision_tree__min_samples_split': 2}\n",
      "Best cross-validation score for Decision_Tree: 0.506\n",
      "Best parameters for LDA: {'lda__solver': 'svd'}\n",
      "Best cross-validation score for LDA: 0.551\n"
     ]
    },
    {
     "name": "stderr",
     "output_type": "stream",
     "text": [
      " 67%|██████▋   | 4/6 [00:00<00:00,  5.05it/s]"
     ]
    },
    {
     "name": "stdout",
     "output_type": "stream",
     "text": [
      "Best parameters for MLP: {'mlp__activation': 'tanh', 'mlp__alpha': 0.001, 'mlp__hidden_layer_sizes': (100, 10)}\n",
      "Best cross-validation score for MLP: 0.583\n"
     ]
    },
    {
     "name": "stderr",
     "output_type": "stream",
     "text": [
      " 83%|████████▎ | 5/6 [00:01<00:00,  4.05it/s]"
     ]
    },
    {
     "name": "stdout",
     "output_type": "stream",
     "text": [
      "Best parameters for RandomForestClassifier: {'randomforestclassifier__max_features': 'sqrt', 'randomforestclassifier__n_estimators': 40}\n",
      "Best cross-validation score for RandomForestClassifier: 0.455\n"
     ]
    },
    {
     "name": "stderr",
     "output_type": "stream",
     "text": [
      "100%|██████████| 6/6 [00:01<00:00,  3.56it/s]\n"
     ]
    },
    {
     "name": "stdout",
     "output_type": "stream",
     "text": [
      "Best parameters for XGBClassifier: {'xgbclassifier__learning_rate': 0.01, 'xgbclassifier__n_estimators': 50, 'xgbclassifier__subsample': 0.8}\n",
      "Best cross-validation score for XGBClassifier: 0.525\n"
     ]
    },
    {
     "name": "stderr",
     "output_type": "stream",
     "text": [
      " 17%|█▋        | 1/6 [00:00<00:00,  8.79it/s]"
     ]
    },
    {
     "name": "stdout",
     "output_type": "stream",
     "text": [
      "Best parameters for SVM: {'svm__C': 1000.0, 'svm__kernel': 'rbf'}\n",
      "Best cross-validation score for SVM: 0.551\n",
      "Best parameters for Decision_Tree: {'decision_tree__max_depth': 5, 'decision_tree__min_samples_split': 5}\n",
      "Best cross-validation score for Decision_Tree: 0.545\n",
      "Best parameters for LDA: {'lda__solver': 'svd'}\n",
      "Best cross-validation score for LDA: 0.538\n"
     ]
    },
    {
     "name": "stderr",
     "output_type": "stream",
     "text": [
      " 67%|██████▋   | 4/6 [00:00<00:00,  5.43it/s]"
     ]
    },
    {
     "name": "stdout",
     "output_type": "stream",
     "text": [
      "Best parameters for MLP: {'mlp__activation': 'relu', 'mlp__alpha': 0.001, 'mlp__hidden_layer_sizes': (100, 10)}\n",
      "Best cross-validation score for MLP: 0.576\n"
     ]
    },
    {
     "name": "stderr",
     "output_type": "stream",
     "text": [
      " 83%|████████▎ | 5/6 [00:01<00:00,  4.16it/s]"
     ]
    },
    {
     "name": "stdout",
     "output_type": "stream",
     "text": [
      "Best parameters for RandomForestClassifier: {'randomforestclassifier__max_features': 'sqrt', 'randomforestclassifier__n_estimators': 50}\n",
      "Best cross-validation score for RandomForestClassifier: 0.455\n"
     ]
    },
    {
     "name": "stderr",
     "output_type": "stream",
     "text": [
      "100%|██████████| 6/6 [00:01<00:00,  3.66it/s]\n"
     ]
    },
    {
     "name": "stdout",
     "output_type": "stream",
     "text": [
      "Best parameters for XGBClassifier: {'xgbclassifier__learning_rate': 0.01, 'xgbclassifier__n_estimators': 100, 'xgbclassifier__subsample': 0.8}\n",
      "Best cross-validation score for XGBClassifier: 0.558\n"
     ]
    },
    {
     "name": "stderr",
     "output_type": "stream",
     "text": [
      " 17%|█▋        | 1/6 [00:00<00:00,  8.53it/s]"
     ]
    },
    {
     "name": "stdout",
     "output_type": "stream",
     "text": [
      "Best parameters for SVM: {'svm__C': 10, 'svm__kernel': 'rbf'}\n",
      "Best cross-validation score for SVM: 0.551\n"
     ]
    },
    {
     "name": "stderr",
     "output_type": "stream",
     "text": [
      " 33%|███▎      | 2/6 [00:00<00:00,  6.70it/s]"
     ]
    },
    {
     "name": "stdout",
     "output_type": "stream",
     "text": [
      "Best parameters for Decision_Tree: {'decision_tree__max_depth': 3, 'decision_tree__min_samples_split': 2}\n",
      "Best cross-validation score for Decision_Tree: 0.506\n",
      "Best parameters for LDA: {'lda__solver': 'svd'}\n",
      "Best cross-validation score for LDA: 0.493\n"
     ]
    },
    {
     "name": "stderr",
     "output_type": "stream",
     "text": [
      " 67%|██████▋   | 4/6 [00:00<00:00,  3.96it/s]"
     ]
    },
    {
     "name": "stdout",
     "output_type": "stream",
     "text": [
      "Best parameters for MLP: {'mlp__activation': 'tanh', 'mlp__alpha': 0.001, 'mlp__hidden_layer_sizes': (100, 10)}\n",
      "Best cross-validation score for MLP: 0.564\n"
     ]
    },
    {
     "name": "stderr",
     "output_type": "stream",
     "text": [
      " 83%|████████▎ | 5/6 [00:01<00:00,  3.53it/s]"
     ]
    },
    {
     "name": "stdout",
     "output_type": "stream",
     "text": [
      "Best parameters for RandomForestClassifier: {'randomforestclassifier__max_features': 'sqrt', 'randomforestclassifier__n_estimators': 40}\n",
      "Best cross-validation score for RandomForestClassifier: 0.512\n"
     ]
    },
    {
     "name": "stderr",
     "output_type": "stream",
     "text": [
      "100%|██████████| 6/6 [00:01<00:00,  3.24it/s]\n"
     ]
    },
    {
     "name": "stdout",
     "output_type": "stream",
     "text": [
      "Best parameters for XGBClassifier: {'xgbclassifier__learning_rate': 0.1, 'xgbclassifier__n_estimators': 200, 'xgbclassifier__subsample': 0.8}\n",
      "Best cross-validation score for XGBClassifier: 0.512\n"
     ]
    },
    {
     "name": "stderr",
     "output_type": "stream",
     "text": [
      " 17%|█▋        | 1/6 [00:00<00:00,  9.31it/s]"
     ]
    },
    {
     "name": "stdout",
     "output_type": "stream",
     "text": [
      "Best parameters for SVM: {'svm__C': 1000.0, 'svm__kernel': 'rbf'}\n",
      "Best cross-validation score for SVM: 0.551\n",
      "Best parameters for Decision_Tree: {'decision_tree__max_depth': 3, 'decision_tree__min_samples_split': 2}\n",
      "Best cross-validation score for Decision_Tree: 0.519\n"
     ]
    },
    {
     "name": "stderr",
     "output_type": "stream",
     "text": [
      " 50%|█████     | 3/6 [00:00<00:00, 15.03it/s]"
     ]
    },
    {
     "name": "stdout",
     "output_type": "stream",
     "text": [
      "Best parameters for LDA: {'lda__solver': 'svd'}\n",
      "Best cross-validation score for LDA: 0.538\n",
      "Best parameters for MLP: {'mlp__activation': 'tanh', 'mlp__alpha': 0.0001, 'mlp__hidden_layer_sizes': (100, 10)}\n",
      "Best cross-validation score for MLP: 0.576\n"
     ]
    },
    {
     "name": "stderr",
     "output_type": "stream",
     "text": [
      " 83%|████████▎ | 5/6 [00:01<00:00,  3.60it/s]"
     ]
    },
    {
     "name": "stdout",
     "output_type": "stream",
     "text": [
      "Best parameters for RandomForestClassifier: {'randomforestclassifier__max_features': 'sqrt', 'randomforestclassifier__n_estimators': 40}\n",
      "Best cross-validation score for RandomForestClassifier: 0.455\n"
     ]
    },
    {
     "name": "stderr",
     "output_type": "stream",
     "text": [
      "100%|██████████| 6/6 [00:01<00:00,  3.55it/s]\n"
     ]
    },
    {
     "name": "stdout",
     "output_type": "stream",
     "text": [
      "Best parameters for XGBClassifier: {'xgbclassifier__learning_rate': 0.01, 'xgbclassifier__n_estimators': 100, 'xgbclassifier__subsample': 0.7}\n",
      "Best cross-validation score for XGBClassifier: 0.564\n"
     ]
    },
    {
     "name": "stderr",
     "output_type": "stream",
     "text": [
      " 17%|█▋        | 1/6 [00:00<00:00,  7.86it/s]"
     ]
    },
    {
     "name": "stdout",
     "output_type": "stream",
     "text": [
      "Best parameters for SVM: {'svm__C': 10, 'svm__kernel': 'rbf'}\n",
      "Best cross-validation score for SVM: 0.564\n",
      "Best parameters for Decision_Tree: {'decision_tree__max_depth': 5, 'decision_tree__min_samples_split': 10}\n",
      "Best cross-validation score for Decision_Tree: 0.576\n",
      "Best parameters for LDA: {'lda__solver': 'svd'}\n",
      "Best cross-validation score for LDA: 0.461\n"
     ]
    },
    {
     "name": "stderr",
     "output_type": "stream",
     "text": [
      " 67%|██████▋   | 4/6 [00:00<00:00,  4.18it/s]"
     ]
    },
    {
     "name": "stdout",
     "output_type": "stream",
     "text": [
      "Best parameters for MLP: {'mlp__activation': 'relu', 'mlp__alpha': 0.001, 'mlp__hidden_layer_sizes': (100,)}\n",
      "Best cross-validation score for MLP: 0.544\n"
     ]
    },
    {
     "name": "stderr",
     "output_type": "stream",
     "text": [
      " 83%|████████▎ | 5/6 [00:01<00:00,  3.54it/s]"
     ]
    },
    {
     "name": "stdout",
     "output_type": "stream",
     "text": [
      "Best parameters for RandomForestClassifier: {'randomforestclassifier__max_features': 'sqrt', 'randomforestclassifier__n_estimators': 50}\n",
      "Best cross-validation score for RandomForestClassifier: 0.564\n"
     ]
    },
    {
     "name": "stderr",
     "output_type": "stream",
     "text": [
      "100%|██████████| 6/6 [00:01<00:00,  3.18it/s]\n"
     ]
    },
    {
     "name": "stdout",
     "output_type": "stream",
     "text": [
      "Best parameters for XGBClassifier: {'xgbclassifier__learning_rate': 0.01, 'xgbclassifier__n_estimators': 200, 'xgbclassifier__subsample': 0.7}\n",
      "Best cross-validation score for XGBClassifier: 0.545\n"
     ]
    },
    {
     "name": "stderr",
     "output_type": "stream",
     "text": [
      " 17%|█▋        | 1/6 [00:00<00:00,  8.29it/s]"
     ]
    },
    {
     "name": "stdout",
     "output_type": "stream",
     "text": [
      "Best parameters for SVM: {'svm__C': 1, 'svm__kernel': 'rbf'}\n",
      "Best cross-validation score for SVM: 0.577\n",
      "Best parameters for Decision_Tree: {'decision_tree__max_depth': 3, 'decision_tree__min_samples_split': 2}\n",
      "Best cross-validation score for Decision_Tree: 0.526\n",
      "Best parameters for LDA: {'lda__solver': 'svd'}\n",
      "Best cross-validation score for LDA: 0.596\n"
     ]
    },
    {
     "name": "stderr",
     "output_type": "stream",
     "text": [
      " 67%|██████▋   | 4/6 [00:00<00:00,  4.79it/s]"
     ]
    },
    {
     "name": "stdout",
     "output_type": "stream",
     "text": [
      "Best parameters for MLP: {'mlp__activation': 'relu', 'mlp__alpha': 0.01, 'mlp__hidden_layer_sizes': (100, 10)}\n",
      "Best cross-validation score for MLP: 0.602\n"
     ]
    },
    {
     "name": "stderr",
     "output_type": "stream",
     "text": [
      " 83%|████████▎ | 5/6 [00:01<00:00,  3.09it/s]"
     ]
    },
    {
     "name": "stdout",
     "output_type": "stream",
     "text": [
      "Best parameters for RandomForestClassifier: {'randomforestclassifier__max_features': 'log2', 'randomforestclassifier__n_estimators': 50}\n",
      "Best cross-validation score for RandomForestClassifier: 0.443\n"
     ]
    },
    {
     "name": "stderr",
     "output_type": "stream",
     "text": [
      "100%|██████████| 6/6 [00:02<00:00,  2.83it/s]"
     ]
    },
    {
     "name": "stdout",
     "output_type": "stream",
     "text": [
      "Best parameters for XGBClassifier: {'xgbclassifier__learning_rate': 0.01, 'xgbclassifier__n_estimators': 50, 'xgbclassifier__subsample': 0.7}\n",
      "Best cross-validation score for XGBClassifier: 0.527\n"
     ]
    },
    {
     "name": "stderr",
     "output_type": "stream",
     "text": [
      "\n"
     ]
    },
    {
     "data": {
      "text/html": [
       "<div>\n",
       "<style scoped>\n",
       "    .dataframe tbody tr th:only-of-type {\n",
       "        vertical-align: middle;\n",
       "    }\n",
       "\n",
       "    .dataframe tbody tr th {\n",
       "        vertical-align: top;\n",
       "    }\n",
       "\n",
       "    .dataframe thead th {\n",
       "        text-align: right;\n",
       "    }\n",
       "</style>\n",
       "<table border=\"1\" class=\"dataframe\">\n",
       "  <thead>\n",
       "    <tr style=\"text-align: right;\">\n",
       "      <th></th>\n",
       "      <th>experiment_name</th>\n",
       "      <th>model_name</th>\n",
       "      <th>best_params</th>\n",
       "      <th>best_score</th>\n",
       "      <th>test_score</th>\n",
       "      <th>grid_search_std_test_score</th>\n",
       "      <th>grid_search_mean_test_score</th>\n",
       "    </tr>\n",
       "  </thead>\n",
       "  <tbody>\n",
       "    <tr>\n",
       "      <th>0</th>\n",
       "      <td>all_features</td>\n",
       "      <td>SVM</td>\n",
       "      <td>{'svm__C': 1, 'svm__kernel': 'linear'}</td>\n",
       "      <td>0.609073</td>\n",
       "      <td>0.575</td>\n",
       "      <td>0.056523</td>\n",
       "      <td>0.543179</td>\n",
       "    </tr>\n",
       "    <tr>\n",
       "      <th>1</th>\n",
       "      <td>all_features</td>\n",
       "      <td>Decision_Tree</td>\n",
       "      <td>{'decision_tree__max_depth': 10, 'decision_tre...</td>\n",
       "      <td>0.537903</td>\n",
       "      <td>0.500</td>\n",
       "      <td>0.065084</td>\n",
       "      <td>0.489561</td>\n",
       "    </tr>\n",
       "    <tr>\n",
       "      <th>2</th>\n",
       "      <td>all_features</td>\n",
       "      <td>LDA</td>\n",
       "      <td>{'lda__solver': 'svd'}</td>\n",
       "      <td>0.615323</td>\n",
       "      <td>0.575</td>\n",
       "      <td>0.054195</td>\n",
       "      <td>0.615323</td>\n",
       "    </tr>\n",
       "    <tr>\n",
       "      <th>3</th>\n",
       "      <td>all_features</td>\n",
       "      <td>MLP</td>\n",
       "      <td>{'mlp__activation': 'tanh', 'mlp__alpha': 0.00...</td>\n",
       "      <td>0.596371</td>\n",
       "      <td>0.600</td>\n",
       "      <td>0.081435</td>\n",
       "      <td>0.563273</td>\n",
       "    </tr>\n",
       "    <tr>\n",
       "      <th>4</th>\n",
       "      <td>all_features</td>\n",
       "      <td>RandomForestClassifier</td>\n",
       "      <td>{'randomforestclassifier__max_features': 'sqrt...</td>\n",
       "      <td>0.602218</td>\n",
       "      <td>0.600</td>\n",
       "      <td>0.043183</td>\n",
       "      <td>0.567238</td>\n",
       "    </tr>\n",
       "    <tr>\n",
       "      <th>5</th>\n",
       "      <td>all_features</td>\n",
       "      <td>XGBClassifier</td>\n",
       "      <td>{'xgbclassifier__learning_rate': 0.1, 'xgbclas...</td>\n",
       "      <td>0.615524</td>\n",
       "      <td>0.550</td>\n",
       "      <td>0.060055</td>\n",
       "      <td>0.584364</td>\n",
       "    </tr>\n",
       "    <tr>\n",
       "      <th>6</th>\n",
       "      <td>mean</td>\n",
       "      <td>SVM</td>\n",
       "      <td>{'svm__C': 0.1, 'svm__kernel': 'linear'}</td>\n",
       "      <td>0.609879</td>\n",
       "      <td>0.525</td>\n",
       "      <td>0.063260</td>\n",
       "      <td>0.526042</td>\n",
       "    </tr>\n",
       "    <tr>\n",
       "      <th>7</th>\n",
       "      <td>mean</td>\n",
       "      <td>Decision_Tree</td>\n",
       "      <td>{'decision_tree__max_depth': 5, 'decision_tree...</td>\n",
       "      <td>0.570766</td>\n",
       "      <td>0.525</td>\n",
       "      <td>0.095617</td>\n",
       "      <td>0.524798</td>\n",
       "    </tr>\n",
       "    <tr>\n",
       "      <th>8</th>\n",
       "      <td>mean</td>\n",
       "      <td>LDA</td>\n",
       "      <td>{'lda__solver': 'svd'}</td>\n",
       "      <td>0.596976</td>\n",
       "      <td>0.525</td>\n",
       "      <td>0.100727</td>\n",
       "      <td>0.596976</td>\n",
       "    </tr>\n",
       "    <tr>\n",
       "      <th>9</th>\n",
       "      <td>mean</td>\n",
       "      <td>MLP</td>\n",
       "      <td>{'mlp__activation': 'tanh', 'mlp__alpha': 0.00...</td>\n",
       "      <td>0.603427</td>\n",
       "      <td>0.525</td>\n",
       "      <td>0.083950</td>\n",
       "      <td>0.571573</td>\n",
       "    </tr>\n",
       "    <tr>\n",
       "      <th>10</th>\n",
       "      <td>mean</td>\n",
       "      <td>RandomForestClassifier</td>\n",
       "      <td>{'randomforestclassifier__max_features': 'sqrt...</td>\n",
       "      <td>0.518548</td>\n",
       "      <td>0.475</td>\n",
       "      <td>0.123774</td>\n",
       "      <td>0.513206</td>\n",
       "    </tr>\n",
       "    <tr>\n",
       "      <th>11</th>\n",
       "      <td>mean</td>\n",
       "      <td>XGBClassifier</td>\n",
       "      <td>{'xgbclassifier__learning_rate': 0.1, 'xgbclas...</td>\n",
       "      <td>0.640121</td>\n",
       "      <td>0.475</td>\n",
       "      <td>0.106782</td>\n",
       "      <td>0.590390</td>\n",
       "    </tr>\n",
       "    <tr>\n",
       "      <th>12</th>\n",
       "      <td>variance</td>\n",
       "      <td>SVM</td>\n",
       "      <td>{'svm__C': 1, 'svm__kernel': 'linear'}</td>\n",
       "      <td>0.563710</td>\n",
       "      <td>0.525</td>\n",
       "      <td>0.067358</td>\n",
       "      <td>0.514550</td>\n",
       "    </tr>\n",
       "    <tr>\n",
       "      <th>13</th>\n",
       "      <td>variance</td>\n",
       "      <td>Decision_Tree</td>\n",
       "      <td>{'decision_tree__max_depth': 3, 'decision_tree...</td>\n",
       "      <td>0.506048</td>\n",
       "      <td>0.575</td>\n",
       "      <td>0.055530</td>\n",
       "      <td>0.481004</td>\n",
       "    </tr>\n",
       "    <tr>\n",
       "      <th>14</th>\n",
       "      <td>variance</td>\n",
       "      <td>LDA</td>\n",
       "      <td>{'lda__solver': 'svd'}</td>\n",
       "      <td>0.550806</td>\n",
       "      <td>0.525</td>\n",
       "      <td>0.086090</td>\n",
       "      <td>0.550806</td>\n",
       "    </tr>\n",
       "    <tr>\n",
       "      <th>15</th>\n",
       "      <td>variance</td>\n",
       "      <td>MLP</td>\n",
       "      <td>{'mlp__activation': 'tanh', 'mlp__alpha': 0.00...</td>\n",
       "      <td>0.583065</td>\n",
       "      <td>0.525</td>\n",
       "      <td>0.094313</td>\n",
       "      <td>0.542137</td>\n",
       "    </tr>\n",
       "    <tr>\n",
       "      <th>16</th>\n",
       "      <td>variance</td>\n",
       "      <td>RandomForestClassifier</td>\n",
       "      <td>{'randomforestclassifier__max_features': 'sqrt...</td>\n",
       "      <td>0.454637</td>\n",
       "      <td>0.550</td>\n",
       "      <td>0.049695</td>\n",
       "      <td>0.443884</td>\n",
       "    </tr>\n",
       "    <tr>\n",
       "      <th>17</th>\n",
       "      <td>variance</td>\n",
       "      <td>XGBClassifier</td>\n",
       "      <td>{'xgbclassifier__learning_rate': 0.01, 'xgbcla...</td>\n",
       "      <td>0.525403</td>\n",
       "      <td>0.550</td>\n",
       "      <td>0.060111</td>\n",
       "      <td>0.462679</td>\n",
       "    </tr>\n",
       "    <tr>\n",
       "      <th>18</th>\n",
       "      <td>std</td>\n",
       "      <td>SVM</td>\n",
       "      <td>{'svm__C': 1000.0, 'svm__kernel': 'rbf'}</td>\n",
       "      <td>0.550605</td>\n",
       "      <td>0.600</td>\n",
       "      <td>0.070719</td>\n",
       "      <td>0.503377</td>\n",
       "    </tr>\n",
       "    <tr>\n",
       "      <th>19</th>\n",
       "      <td>std</td>\n",
       "      <td>Decision_Tree</td>\n",
       "      <td>{'decision_tree__max_depth': 5, 'decision_tree...</td>\n",
       "      <td>0.544556</td>\n",
       "      <td>0.625</td>\n",
       "      <td>0.048806</td>\n",
       "      <td>0.514023</td>\n",
       "    </tr>\n",
       "    <tr>\n",
       "      <th>20</th>\n",
       "      <td>std</td>\n",
       "      <td>LDA</td>\n",
       "      <td>{'lda__solver': 'svd'}</td>\n",
       "      <td>0.537903</td>\n",
       "      <td>0.500</td>\n",
       "      <td>0.099020</td>\n",
       "      <td>0.537903</td>\n",
       "    </tr>\n",
       "    <tr>\n",
       "      <th>21</th>\n",
       "      <td>std</td>\n",
       "      <td>MLP</td>\n",
       "      <td>{'mlp__activation': 'relu', 'mlp__alpha': 0.00...</td>\n",
       "      <td>0.576411</td>\n",
       "      <td>0.525</td>\n",
       "      <td>0.097389</td>\n",
       "      <td>0.533961</td>\n",
       "    </tr>\n",
       "    <tr>\n",
       "      <th>22</th>\n",
       "      <td>std</td>\n",
       "      <td>RandomForestClassifier</td>\n",
       "      <td>{'randomforestclassifier__max_features': 'sqrt...</td>\n",
       "      <td>0.455242</td>\n",
       "      <td>0.550</td>\n",
       "      <td>0.062784</td>\n",
       "      <td>0.449866</td>\n",
       "    </tr>\n",
       "    <tr>\n",
       "      <th>23</th>\n",
       "      <td>std</td>\n",
       "      <td>XGBClassifier</td>\n",
       "      <td>{'xgbclassifier__learning_rate': 0.01, 'xgbcla...</td>\n",
       "      <td>0.558065</td>\n",
       "      <td>0.675</td>\n",
       "      <td>0.085617</td>\n",
       "      <td>0.519915</td>\n",
       "    </tr>\n",
       "    <tr>\n",
       "      <th>24</th>\n",
       "      <td>peak_to_peak</td>\n",
       "      <td>SVM</td>\n",
       "      <td>{'svm__C': 10, 'svm__kernel': 'rbf'}</td>\n",
       "      <td>0.551008</td>\n",
       "      <td>0.500</td>\n",
       "      <td>0.054618</td>\n",
       "      <td>0.483669</td>\n",
       "    </tr>\n",
       "    <tr>\n",
       "      <th>25</th>\n",
       "      <td>peak_to_peak</td>\n",
       "      <td>Decision_Tree</td>\n",
       "      <td>{'decision_tree__max_depth': 3, 'decision_tree...</td>\n",
       "      <td>0.506048</td>\n",
       "      <td>0.575</td>\n",
       "      <td>0.085726</td>\n",
       "      <td>0.488217</td>\n",
       "    </tr>\n",
       "    <tr>\n",
       "      <th>26</th>\n",
       "      <td>peak_to_peak</td>\n",
       "      <td>LDA</td>\n",
       "      <td>{'lda__solver': 'svd'}</td>\n",
       "      <td>0.492742</td>\n",
       "      <td>0.525</td>\n",
       "      <td>0.061182</td>\n",
       "      <td>0.489617</td>\n",
       "    </tr>\n",
       "    <tr>\n",
       "      <th>27</th>\n",
       "      <td>peak_to_peak</td>\n",
       "      <td>MLP</td>\n",
       "      <td>{'mlp__activation': 'tanh', 'mlp__alpha': 0.00...</td>\n",
       "      <td>0.563508</td>\n",
       "      <td>0.525</td>\n",
       "      <td>0.079041</td>\n",
       "      <td>0.528304</td>\n",
       "    </tr>\n",
       "    <tr>\n",
       "      <th>28</th>\n",
       "      <td>peak_to_peak</td>\n",
       "      <td>RandomForestClassifier</td>\n",
       "      <td>{'randomforestclassifier__max_features': 'sqrt...</td>\n",
       "      <td>0.512298</td>\n",
       "      <td>0.600</td>\n",
       "      <td>0.079982</td>\n",
       "      <td>0.510181</td>\n",
       "    </tr>\n",
       "    <tr>\n",
       "      <th>29</th>\n",
       "      <td>peak_to_peak</td>\n",
       "      <td>XGBClassifier</td>\n",
       "      <td>{'xgbclassifier__learning_rate': 0.1, 'xgbclas...</td>\n",
       "      <td>0.512298</td>\n",
       "      <td>0.600</td>\n",
       "      <td>0.085278</td>\n",
       "      <td>0.494116</td>\n",
       "    </tr>\n",
       "    <tr>\n",
       "      <th>30</th>\n",
       "      <td>rms</td>\n",
       "      <td>SVM</td>\n",
       "      <td>{'svm__C': 1000.0, 'svm__kernel': 'rbf'}</td>\n",
       "      <td>0.550605</td>\n",
       "      <td>0.600</td>\n",
       "      <td>0.070719</td>\n",
       "      <td>0.503377</td>\n",
       "    </tr>\n",
       "    <tr>\n",
       "      <th>31</th>\n",
       "      <td>rms</td>\n",
       "      <td>Decision_Tree</td>\n",
       "      <td>{'decision_tree__max_depth': 3, 'decision_tree...</td>\n",
       "      <td>0.518952</td>\n",
       "      <td>0.550</td>\n",
       "      <td>0.059899</td>\n",
       "      <td>0.500403</td>\n",
       "    </tr>\n",
       "    <tr>\n",
       "      <th>32</th>\n",
       "      <td>rms</td>\n",
       "      <td>LDA</td>\n",
       "      <td>{'lda__solver': 'svd'}</td>\n",
       "      <td>0.537903</td>\n",
       "      <td>0.500</td>\n",
       "      <td>0.099020</td>\n",
       "      <td>0.537903</td>\n",
       "    </tr>\n",
       "    <tr>\n",
       "      <th>33</th>\n",
       "      <td>rms</td>\n",
       "      <td>MLP</td>\n",
       "      <td>{'mlp__activation': 'tanh', 'mlp__alpha': 0.00...</td>\n",
       "      <td>0.576411</td>\n",
       "      <td>0.500</td>\n",
       "      <td>0.100142</td>\n",
       "      <td>0.534005</td>\n",
       "    </tr>\n",
       "    <tr>\n",
       "      <th>34</th>\n",
       "      <td>rms</td>\n",
       "      <td>RandomForestClassifier</td>\n",
       "      <td>{'randomforestclassifier__max_features': 'sqrt...</td>\n",
       "      <td>0.455242</td>\n",
       "      <td>0.575</td>\n",
       "      <td>0.052270</td>\n",
       "      <td>0.455242</td>\n",
       "    </tr>\n",
       "    <tr>\n",
       "      <th>35</th>\n",
       "      <td>rms</td>\n",
       "      <td>XGBClassifier</td>\n",
       "      <td>{'xgbclassifier__learning_rate': 0.01, 'xgbcla...</td>\n",
       "      <td>0.564315</td>\n",
       "      <td>0.650</td>\n",
       "      <td>0.083922</td>\n",
       "      <td>0.513508</td>\n",
       "    </tr>\n",
       "    <tr>\n",
       "      <th>36</th>\n",
       "      <td>skewness</td>\n",
       "      <td>SVM</td>\n",
       "      <td>{'svm__C': 10, 'svm__kernel': 'rbf'}</td>\n",
       "      <td>0.563911</td>\n",
       "      <td>0.575</td>\n",
       "      <td>0.038943</td>\n",
       "      <td>0.483384</td>\n",
       "    </tr>\n",
       "    <tr>\n",
       "      <th>37</th>\n",
       "      <td>skewness</td>\n",
       "      <td>Decision_Tree</td>\n",
       "      <td>{'decision_tree__max_depth': 5, 'decision_tree...</td>\n",
       "      <td>0.576210</td>\n",
       "      <td>0.575</td>\n",
       "      <td>0.059451</td>\n",
       "      <td>0.550784</td>\n",
       "    </tr>\n",
       "    <tr>\n",
       "      <th>38</th>\n",
       "      <td>skewness</td>\n",
       "      <td>LDA</td>\n",
       "      <td>{'lda__solver': 'svd'}</td>\n",
       "      <td>0.461492</td>\n",
       "      <td>0.400</td>\n",
       "      <td>0.031650</td>\n",
       "      <td>0.461492</td>\n",
       "    </tr>\n",
       "    <tr>\n",
       "      <th>39</th>\n",
       "      <td>skewness</td>\n",
       "      <td>MLP</td>\n",
       "      <td>{'mlp__activation': 'relu', 'mlp__alpha': 0.00...</td>\n",
       "      <td>0.544153</td>\n",
       "      <td>0.550</td>\n",
       "      <td>0.060801</td>\n",
       "      <td>0.492932</td>\n",
       "    </tr>\n",
       "    <tr>\n",
       "      <th>40</th>\n",
       "      <td>skewness</td>\n",
       "      <td>RandomForestClassifier</td>\n",
       "      <td>{'randomforestclassifier__max_features': 'sqrt...</td>\n",
       "      <td>0.563710</td>\n",
       "      <td>0.575</td>\n",
       "      <td>0.086045</td>\n",
       "      <td>0.560484</td>\n",
       "    </tr>\n",
       "    <tr>\n",
       "      <th>41</th>\n",
       "      <td>skewness</td>\n",
       "      <td>XGBClassifier</td>\n",
       "      <td>{'xgbclassifier__learning_rate': 0.01, 'xgbcla...</td>\n",
       "      <td>0.544758</td>\n",
       "      <td>0.500</td>\n",
       "      <td>0.091975</td>\n",
       "      <td>0.510969</td>\n",
       "    </tr>\n",
       "    <tr>\n",
       "      <th>42</th>\n",
       "      <td>kurtosis</td>\n",
       "      <td>SVM</td>\n",
       "      <td>{'svm__C': 1, 'svm__kernel': 'rbf'}</td>\n",
       "      <td>0.577218</td>\n",
       "      <td>0.550</td>\n",
       "      <td>0.065937</td>\n",
       "      <td>0.538642</td>\n",
       "    </tr>\n",
       "    <tr>\n",
       "      <th>43</th>\n",
       "      <td>kurtosis</td>\n",
       "      <td>Decision_Tree</td>\n",
       "      <td>{'decision_tree__max_depth': 3, 'decision_tree...</td>\n",
       "      <td>0.526411</td>\n",
       "      <td>0.450</td>\n",
       "      <td>0.108130</td>\n",
       "      <td>0.500829</td>\n",
       "    </tr>\n",
       "    <tr>\n",
       "      <th>44</th>\n",
       "      <td>kurtosis</td>\n",
       "      <td>LDA</td>\n",
       "      <td>{'lda__solver': 'svd'}</td>\n",
       "      <td>0.596169</td>\n",
       "      <td>0.550</td>\n",
       "      <td>0.066120</td>\n",
       "      <td>0.596169</td>\n",
       "    </tr>\n",
       "    <tr>\n",
       "      <th>45</th>\n",
       "      <td>kurtosis</td>\n",
       "      <td>MLP</td>\n",
       "      <td>{'mlp__activation': 'relu', 'mlp__alpha': 0.01...</td>\n",
       "      <td>0.602419</td>\n",
       "      <td>0.500</td>\n",
       "      <td>0.073495</td>\n",
       "      <td>0.587914</td>\n",
       "    </tr>\n",
       "    <tr>\n",
       "      <th>46</th>\n",
       "      <td>kurtosis</td>\n",
       "      <td>RandomForestClassifier</td>\n",
       "      <td>{'randomforestclassifier__max_features': 'log2...</td>\n",
       "      <td>0.442540</td>\n",
       "      <td>0.475</td>\n",
       "      <td>0.094013</td>\n",
       "      <td>0.433938</td>\n",
       "    </tr>\n",
       "    <tr>\n",
       "      <th>47</th>\n",
       "      <td>kurtosis</td>\n",
       "      <td>XGBClassifier</td>\n",
       "      <td>{'xgbclassifier__learning_rate': 0.01, 'xgbcla...</td>\n",
       "      <td>0.526613</td>\n",
       "      <td>0.625</td>\n",
       "      <td>0.103188</td>\n",
       "      <td>0.475090</td>\n",
       "    </tr>\n",
       "  </tbody>\n",
       "</table>\n",
       "</div>"
      ],
      "text/plain": [
       "   experiment_name              model_name  \\\n",
       "0     all_features                     SVM   \n",
       "1     all_features           Decision_Tree   \n",
       "2     all_features                     LDA   \n",
       "3     all_features                     MLP   \n",
       "4     all_features  RandomForestClassifier   \n",
       "5     all_features           XGBClassifier   \n",
       "6             mean                     SVM   \n",
       "7             mean           Decision_Tree   \n",
       "8             mean                     LDA   \n",
       "9             mean                     MLP   \n",
       "10            mean  RandomForestClassifier   \n",
       "11            mean           XGBClassifier   \n",
       "12        variance                     SVM   \n",
       "13        variance           Decision_Tree   \n",
       "14        variance                     LDA   \n",
       "15        variance                     MLP   \n",
       "16        variance  RandomForestClassifier   \n",
       "17        variance           XGBClassifier   \n",
       "18             std                     SVM   \n",
       "19             std           Decision_Tree   \n",
       "20             std                     LDA   \n",
       "21             std                     MLP   \n",
       "22             std  RandomForestClassifier   \n",
       "23             std           XGBClassifier   \n",
       "24    peak_to_peak                     SVM   \n",
       "25    peak_to_peak           Decision_Tree   \n",
       "26    peak_to_peak                     LDA   \n",
       "27    peak_to_peak                     MLP   \n",
       "28    peak_to_peak  RandomForestClassifier   \n",
       "29    peak_to_peak           XGBClassifier   \n",
       "30             rms                     SVM   \n",
       "31             rms           Decision_Tree   \n",
       "32             rms                     LDA   \n",
       "33             rms                     MLP   \n",
       "34             rms  RandomForestClassifier   \n",
       "35             rms           XGBClassifier   \n",
       "36        skewness                     SVM   \n",
       "37        skewness           Decision_Tree   \n",
       "38        skewness                     LDA   \n",
       "39        skewness                     MLP   \n",
       "40        skewness  RandomForestClassifier   \n",
       "41        skewness           XGBClassifier   \n",
       "42        kurtosis                     SVM   \n",
       "43        kurtosis           Decision_Tree   \n",
       "44        kurtosis                     LDA   \n",
       "45        kurtosis                     MLP   \n",
       "46        kurtosis  RandomForestClassifier   \n",
       "47        kurtosis           XGBClassifier   \n",
       "\n",
       "                                          best_params  best_score  test_score  \\\n",
       "0              {'svm__C': 1, 'svm__kernel': 'linear'}    0.609073       0.575   \n",
       "1   {'decision_tree__max_depth': 10, 'decision_tre...    0.537903       0.500   \n",
       "2                              {'lda__solver': 'svd'}    0.615323       0.575   \n",
       "3   {'mlp__activation': 'tanh', 'mlp__alpha': 0.00...    0.596371       0.600   \n",
       "4   {'randomforestclassifier__max_features': 'sqrt...    0.602218       0.600   \n",
       "5   {'xgbclassifier__learning_rate': 0.1, 'xgbclas...    0.615524       0.550   \n",
       "6            {'svm__C': 0.1, 'svm__kernel': 'linear'}    0.609879       0.525   \n",
       "7   {'decision_tree__max_depth': 5, 'decision_tree...    0.570766       0.525   \n",
       "8                              {'lda__solver': 'svd'}    0.596976       0.525   \n",
       "9   {'mlp__activation': 'tanh', 'mlp__alpha': 0.00...    0.603427       0.525   \n",
       "10  {'randomforestclassifier__max_features': 'sqrt...    0.518548       0.475   \n",
       "11  {'xgbclassifier__learning_rate': 0.1, 'xgbclas...    0.640121       0.475   \n",
       "12             {'svm__C': 1, 'svm__kernel': 'linear'}    0.563710       0.525   \n",
       "13  {'decision_tree__max_depth': 3, 'decision_tree...    0.506048       0.575   \n",
       "14                             {'lda__solver': 'svd'}    0.550806       0.525   \n",
       "15  {'mlp__activation': 'tanh', 'mlp__alpha': 0.00...    0.583065       0.525   \n",
       "16  {'randomforestclassifier__max_features': 'sqrt...    0.454637       0.550   \n",
       "17  {'xgbclassifier__learning_rate': 0.01, 'xgbcla...    0.525403       0.550   \n",
       "18           {'svm__C': 1000.0, 'svm__kernel': 'rbf'}    0.550605       0.600   \n",
       "19  {'decision_tree__max_depth': 5, 'decision_tree...    0.544556       0.625   \n",
       "20                             {'lda__solver': 'svd'}    0.537903       0.500   \n",
       "21  {'mlp__activation': 'relu', 'mlp__alpha': 0.00...    0.576411       0.525   \n",
       "22  {'randomforestclassifier__max_features': 'sqrt...    0.455242       0.550   \n",
       "23  {'xgbclassifier__learning_rate': 0.01, 'xgbcla...    0.558065       0.675   \n",
       "24               {'svm__C': 10, 'svm__kernel': 'rbf'}    0.551008       0.500   \n",
       "25  {'decision_tree__max_depth': 3, 'decision_tree...    0.506048       0.575   \n",
       "26                             {'lda__solver': 'svd'}    0.492742       0.525   \n",
       "27  {'mlp__activation': 'tanh', 'mlp__alpha': 0.00...    0.563508       0.525   \n",
       "28  {'randomforestclassifier__max_features': 'sqrt...    0.512298       0.600   \n",
       "29  {'xgbclassifier__learning_rate': 0.1, 'xgbclas...    0.512298       0.600   \n",
       "30           {'svm__C': 1000.0, 'svm__kernel': 'rbf'}    0.550605       0.600   \n",
       "31  {'decision_tree__max_depth': 3, 'decision_tree...    0.518952       0.550   \n",
       "32                             {'lda__solver': 'svd'}    0.537903       0.500   \n",
       "33  {'mlp__activation': 'tanh', 'mlp__alpha': 0.00...    0.576411       0.500   \n",
       "34  {'randomforestclassifier__max_features': 'sqrt...    0.455242       0.575   \n",
       "35  {'xgbclassifier__learning_rate': 0.01, 'xgbcla...    0.564315       0.650   \n",
       "36               {'svm__C': 10, 'svm__kernel': 'rbf'}    0.563911       0.575   \n",
       "37  {'decision_tree__max_depth': 5, 'decision_tree...    0.576210       0.575   \n",
       "38                             {'lda__solver': 'svd'}    0.461492       0.400   \n",
       "39  {'mlp__activation': 'relu', 'mlp__alpha': 0.00...    0.544153       0.550   \n",
       "40  {'randomforestclassifier__max_features': 'sqrt...    0.563710       0.575   \n",
       "41  {'xgbclassifier__learning_rate': 0.01, 'xgbcla...    0.544758       0.500   \n",
       "42                {'svm__C': 1, 'svm__kernel': 'rbf'}    0.577218       0.550   \n",
       "43  {'decision_tree__max_depth': 3, 'decision_tree...    0.526411       0.450   \n",
       "44                             {'lda__solver': 'svd'}    0.596169       0.550   \n",
       "45  {'mlp__activation': 'relu', 'mlp__alpha': 0.01...    0.602419       0.500   \n",
       "46  {'randomforestclassifier__max_features': 'log2...    0.442540       0.475   \n",
       "47  {'xgbclassifier__learning_rate': 0.01, 'xgbcla...    0.526613       0.625   \n",
       "\n",
       "    grid_search_std_test_score  grid_search_mean_test_score  \n",
       "0                     0.056523                     0.543179  \n",
       "1                     0.065084                     0.489561  \n",
       "2                     0.054195                     0.615323  \n",
       "3                     0.081435                     0.563273  \n",
       "4                     0.043183                     0.567238  \n",
       "5                     0.060055                     0.584364  \n",
       "6                     0.063260                     0.526042  \n",
       "7                     0.095617                     0.524798  \n",
       "8                     0.100727                     0.596976  \n",
       "9                     0.083950                     0.571573  \n",
       "10                    0.123774                     0.513206  \n",
       "11                    0.106782                     0.590390  \n",
       "12                    0.067358                     0.514550  \n",
       "13                    0.055530                     0.481004  \n",
       "14                    0.086090                     0.550806  \n",
       "15                    0.094313                     0.542137  \n",
       "16                    0.049695                     0.443884  \n",
       "17                    0.060111                     0.462679  \n",
       "18                    0.070719                     0.503377  \n",
       "19                    0.048806                     0.514023  \n",
       "20                    0.099020                     0.537903  \n",
       "21                    0.097389                     0.533961  \n",
       "22                    0.062784                     0.449866  \n",
       "23                    0.085617                     0.519915  \n",
       "24                    0.054618                     0.483669  \n",
       "25                    0.085726                     0.488217  \n",
       "26                    0.061182                     0.489617  \n",
       "27                    0.079041                     0.528304  \n",
       "28                    0.079982                     0.510181  \n",
       "29                    0.085278                     0.494116  \n",
       "30                    0.070719                     0.503377  \n",
       "31                    0.059899                     0.500403  \n",
       "32                    0.099020                     0.537903  \n",
       "33                    0.100142                     0.534005  \n",
       "34                    0.052270                     0.455242  \n",
       "35                    0.083922                     0.513508  \n",
       "36                    0.038943                     0.483384  \n",
       "37                    0.059451                     0.550784  \n",
       "38                    0.031650                     0.461492  \n",
       "39                    0.060801                     0.492932  \n",
       "40                    0.086045                     0.560484  \n",
       "41                    0.091975                     0.510969  \n",
       "42                    0.065937                     0.538642  \n",
       "43                    0.108130                     0.500829  \n",
       "44                    0.066120                     0.596169  \n",
       "45                    0.073495                     0.587914  \n",
       "46                    0.094013                     0.433938  \n",
       "47                    0.103188                     0.475090  "
      ]
     },
     "execution_count": 49,
     "metadata": {},
     "output_type": "execute_result"
    }
   ],
   "source": [
    "import wandb\n",
    "from wandb.sklearn import plot_precision_recall, plot_feature_importances\n",
    "from wandb.sklearn import plot_class_proportions, plot_learning_curve, plot_roc\n",
    "\n",
    "import numpy as np\n",
    "from sklearn.datasets import make_classification\n",
    "from sklearn.model_selection import train_test_split, GridSearchCV, KFold\n",
    "from sklearn.pipeline import Pipeline\n",
    "from sklearn.preprocessing import StandardScaler\n",
    "from sklearn.svm import SVC\n",
    "from sklearn.tree import DecisionTreeClassifier\n",
    "from sklearn.discriminant_analysis import LinearDiscriminantAnalysis\n",
    "from xgboost import XGBClassifier\n",
    "from sklearn.neural_network import MLPClassifier\n",
    "from sklearn.ensemble import RandomForestClassifier\n",
    "\n",
    "\n",
    "# Define the models and parameters for grid search\n",
    "models_and_parameters = {\n",
    "    \"SVM\": (\n",
    "        SVC(),\n",
    "        {\"svm__C\": [1e-3, 1e-2, 0.1, 1, 10, 1e3], \"svm__kernel\": [\"linear\", \"rbf\"]},\n",
    "    ),\n",
    "    \"Decision_Tree\": (\n",
    "        DecisionTreeClassifier(),\n",
    "        {\n",
    "            \"decision_tree__max_depth\": [3, 5, 10],\n",
    "            \"decision_tree__min_samples_split\": [2, 5, 10],\n",
    "        },\n",
    "    ),\n",
    "    \"LDA\": (LinearDiscriminantAnalysis(), {\"lda__solver\": [\"svd\", \"lsqr\"]}),\n",
    "    \"MLP\": (\n",
    "        MLPClassifier(max_iter=1000),\n",
    "        {\n",
    "            \"mlp__hidden_layer_sizes\": [\n",
    "                (50,),\n",
    "                (100,),\n",
    "                (\n",
    "                    100,\n",
    "                    10,\n",
    "                ),\n",
    "            ],\n",
    "            \"mlp__activation\": [\"tanh\", \"relu\"],\n",
    "            \"mlp__alpha\": [0.0001, 0.001, 0.01],\n",
    "        },\n",
    "    ),\n",
    "    \"RandomForestClassifier\": (\n",
    "        RandomForestClassifier(),\n",
    "        {\n",
    "            \"randomforestclassifier__n_estimators\": [40, 50, 60],\n",
    "            \"randomforestclassifier__max_features\": [\"sqrt\", \"log2\"],\n",
    "        },\n",
    "    ),\n",
    "    \"XGBClassifier\": (\n",
    "        XGBClassifier(),\n",
    "        {\n",
    "            \"xgbclassifier__n_estimators\": [50, 100, 200],\n",
    "            \"xgbclassifier__learning_rate\": [0.01, 0.1, 0.2],\n",
    "            \"xgbclassifier__subsample\": [0.7, 0.8, 0.9],\n",
    "        },\n",
    "    ),\n",
    "}\n",
    "\n",
    "# Define 5-fold cross-validation\n",
    "kfold = KFold(n_splits=5, shuffle=True, random_state=42)\n",
    "\n",
    "# List to hold the best models for each classifier\n",
    "best_models = []\n",
    "\n",
    "results = {\n",
    "    \"experiment_name\": [],\n",
    "    \"model_name\": [],\n",
    "    \"best_params\": [],\n",
    "    \"best_score\": [],\n",
    "    \"test_score\": [],\n",
    "    \"grid_search_std_test_score\": [],\n",
    "    \"grid_search_mean_test_score\": [],\n",
    "}\n",
    "\n",
    "\n",
    "for experiment_name in [\n",
    "    \"all_features\",\n",
    "    \"mean\",\n",
    "    \"variance\",\n",
    "    \"std\",\n",
    "    \"peak_to_peak\",\n",
    "    \"rms\",\n",
    "    \"skewness\",\n",
    "    \"kurtosis\",\n",
    "]:\n",
    "    # Create a synthetic dataset\n",
    "\n",
    "    if experiment_name == \"all_features\":\n",
    "        X, y = features.drop(\"label\", axis=1).to_numpy(), features[\"label\"].to_numpy()\n",
    "        X_train, X_test, y_train, y_test = train_test_split(\n",
    "            X, y, test_size=0.2, random_state=42, stratify=y\n",
    "        )\n",
    "\n",
    "    else:\n",
    "        X, y = (\n",
    "            features[experiment_name].to_numpy().reshape(-1, 1),\n",
    "            features[\"label\"].to_numpy(),\n",
    "        )\n",
    "        X_train, X_test, y_train, y_test = train_test_split(\n",
    "            X, y, test_size=0.2, random_state=42, stratify=y\n",
    "        )\n",
    "\n",
    "    # Loop through models and parameters, and perform grid search\n",
    "    for name, (model, params) in tqdm(models_and_parameters.items()):\n",
    "\n",
    "        pipeline = Pipeline(\n",
    "            [\n",
    "                (\"scaler\", StandardScaler()),  # Data standardization\n",
    "                (name.lower(), model),  # Model\n",
    "            ]\n",
    "        )\n",
    "        clf = GridSearchCV(pipeline, params, cv=kfold, scoring=\"accuracy\", n_jobs=-1)\n",
    "        clf.fit(X_train, y_train)\n",
    "        print(f\"Best parameters for {name}: {clf.best_params_}\")\n",
    "        print(f\"Best cross-validation score for {name}: {clf.best_score_:.3f}\")\n",
    "        best_models.append(clf.best_estimator_)\n",
    "\n",
    "        results[\"model_name\"].append(name)\n",
    "        results[\"best_params\"].append(clf.best_params_)\n",
    "        results[\"best_score\"].append(clf.best_score_)\n",
    "        results[\"test_score\"].append(clf.best_estimator_.score(X_test, y_test))\n",
    "        results[\"experiment_name\"].append(experiment_name)\n",
    "        results[\"grid_search_std_test_score\"].append(\n",
    "            np.mean(clf.cv_results_[\"std_test_score\"])\n",
    "        )\n",
    "        results[\"grid_search_mean_test_score\"].append(\n",
    "            np.mean(clf.cv_results_[\"mean_test_score\"])\n",
    "        )\n",
    "\n",
    "\n",
    "results = pd.DataFrame(results)\n",
    "results"
   ]
  },
  {
   "cell_type": "code",
   "execution_count": 50,
   "metadata": {},
   "outputs": [
    {
     "data": {
      "text/plain": [
       "<matplotlib.legend.Legend at 0x14b973a60>"
      ]
     },
     "execution_count": 50,
     "metadata": {},
     "output_type": "execute_result"
    },
    {
     "data": {
      "image/png": "[encoded data removed]",
      "text/plain": [
       "<Figure size 1200x800 with 1 Axes>"
      ]
     },
     "metadata": {},
     "output_type": "display_data"
    }
   ],
   "source": [
    "import seaborn as sns\n",
    "\n",
    "# Create a figure and axis object\n",
    "plt.figure(figsize=(12, 8))\n",
    "\n",
    "# Plotting using seaborn to automatically handle the multiple categories\n",
    "sns.barplot(\n",
    "    data=results,\n",
    "    x=\"experiment_name\",\n",
    "    y=\"test_score\",\n",
    "    hue=\"model_name\",\n",
    "    errorbar=\"sd\",\n",
    ")\n",
    "\n",
    "# Adding titles and labels\n",
    "plt.title(\"Test Scores by Experiment and Model\")\n",
    "plt.xlabel(\"Experiment Name\")\n",
    "plt.ylabel(\"Test Score\")\n",
    "\n",
    "# Improving layout\n",
    "plt.xticks(rotation=45)  # Rotates the labels on the x-axis for better readability\n",
    "plt.legend(title=\"Model\")"
   ]
  },
  {
   "cell_type": "code",
   "execution_count": 38,
   "metadata": {},
   "outputs": [
    {
     "data": {
      "text/plain": [
       "<matplotlib.legend.Legend at 0x14905a640>"
      ]
     },
     "execution_count": 38,
     "metadata": {},
     "output_type": "execute_result"
    },
    {
     "data": {
      "image/png": "[encoded data removed]",
      "text/plain": [
       "<Figure size 1200x800 with 1 Axes>"
      ]
     },
     "metadata": {},
     "output_type": "display_data"
    }
   ],
   "source": [
    "import seaborn as sns\n",
    "\n",
    "# Create a figure and axis object\n",
    "plt.figure(figsize=(12, 8))\n",
    "\n",
    "# Plotting using seaborn to automatically handle the multiple categories\n",
    "sns.barplot(\n",
    "    data=results,\n",
    "    x=\"experiment_name\",\n",
    "    y=\"test_score\",\n",
    "    hue=\"model_name\",\n",
    "    errorbar=\"sd\",\n",
    ")\n",
    "\n",
    "# Adding titles and labels\n",
    "plt.title(\"Test Scores by Experiment and Model\")\n",
    "plt.xlabel(\"Experiment Name\")\n",
    "plt.ylabel(\"Test Score\")\n",
    "\n",
    "# Improving layout\n",
    "plt.xticks(rotation=45)  # Rotates the labels on the x-axis for better readability\n",
    "plt.legend(title=\"Model\")"
   ]
  },
  {
   "cell_type": "code",
   "execution_count": 14,
   "metadata": {},
   "outputs": [
    {
     "name": "stderr",
     "output_type": "stream",
     "text": [
      "/Users/soroush/Documents/Code/freelance-project/vielight/vielight_close_loop/.venv/lib/python3.9/site-packages/urllib3/__init__.py:35: NotOpenSSLWarning: urllib3 v2 only supports OpenSSL 1.1.1+, currently the 'ssl' module is compiled with 'LibreSSL 2.8.3'. See: https://github.com/urllib3/urllib3/issues/3020\n",
      "  warnings.warn(\n",
      "Failed to detect the name of this notebook, you can set it manually with the WANDB_NOTEBOOK_NAME environment variable to enable code saving.\n",
      "/Users/soroush/Documents/Code/freelance-project/vielight/vielight_close_loop/.venv/lib/python3.9/site-packages/urllib3/__init__.py:35: NotOpenSSLWarning: urllib3 v2 only supports OpenSSL 1.1.1+, currently the 'ssl' module is compiled with 'LibreSSL 2.8.3'. See: https://github.com/urllib3/urllib3/issues/3020\n",
      "  warnings.warn(\n",
      "\u001b[34m\u001b[1mwandb\u001b[0m: Currently logged in as: \u001b[33msoroushziaee1\u001b[0m (\u001b[33mvielight\u001b[0m). Use \u001b[1m`wandb login --relogin`\u001b[0m to force relogin\n"
     ]
    },
    {
     "data": {
      "text/html": [
       "Tracking run with wandb version 0.17.0"
      ],
      "text/plain": [
       "<IPython.core.display.HTML object>"
      ]
     },
     "metadata": {},
     "output_type": "display_data"
    },
    {
     "data": {
      "text/html": [
       "Run data is saved locally in <code>/Users/soroush/Documents/Code/freelance-project/vielight/vielight_close_loop/notebooks/wandb/run-20240513_110029-sa5dqsm4</code>"
      ],
      "text/plain": [
       "<IPython.core.display.HTML object>"
      ]
     },
     "metadata": {},
     "output_type": "display_data"
    },
    {
     "data": {
      "text/html": [
       "Syncing run <strong><a href='https://wandb.ai/vielight/my-awesome-project/runs/sa5dqsm4' target=\"_blank\">fluent-totem-1</a></strong> to <a href='https://wandb.ai/vielight/my-awesome-project' target=\"_blank\">Weights & Biases</a> (<a href='https://wandb.me/run' target=\"_blank\">docs</a>)<br/>"
      ],
      "text/plain": [
       "<IPython.core.display.HTML object>"
      ]
     },
     "metadata": {},
     "output_type": "display_data"
    },
    {
     "data": {
      "text/html": [
       " View project at <a href='https://wandb.ai/vielight/my-awesome-project' target=\"_blank\">https://wandb.ai/vielight/my-awesome-project</a>"
      ],
      "text/plain": [
       "<IPython.core.display.HTML object>"
      ]
     },
     "metadata": {},
     "output_type": "display_data"
    },
    {
     "data": {
      "text/html": [
       " View run at <a href='https://wandb.ai/vielight/my-awesome-project/runs/sa5dqsm4' target=\"_blank\">https://wandb.ai/vielight/my-awesome-project/runs/sa5dqsm4</a>"
      ],
      "text/plain": [
       "<IPython.core.display.HTML object>"
      ]
     },
     "metadata": {},
     "output_type": "display_data"
    },
    {
     "data": {
      "text/html": [
       " View run <strong style=\"color:#cdcd00\">fluent-totem-1</strong> at: <a href='https://wandb.ai/vielight/my-awesome-project/runs/sa5dqsm4' target=\"_blank\">https://wandb.ai/vielight/my-awesome-project/runs/sa5dqsm4</a><br/> View project at: <a href='https://wandb.ai/vielight/my-awesome-project' target=\"_blank\">https://wandb.ai/vielight/my-awesome-project</a><br/>Synced 4 W&B file(s), 5 media file(s), 5 artifact file(s) and 0 other file(s)"
      ],
      "text/plain": [
       "<IPython.core.display.HTML object>"
      ]
     },
     "metadata": {},
     "output_type": "display_data"
    },
    {
     "data": {
      "text/html": [
       "Find logs at: <code>./wandb/run-20240513_110029-sa5dqsm4/logs</code>"
      ],
      "text/plain": [
       "<IPython.core.display.HTML object>"
      ]
     },
     "metadata": {},
     "output_type": "display_data"
    }
   ],
   "source": [
    "# This script needs these libraries to be installed:\n",
    "#   numpy, sklearn\n",
    "\n",
    "import wandb\n",
    "from wandb.sklearn import plot_precision_recall, plot_feature_importances\n",
    "from wandb.sklearn import plot_class_proportions, plot_learning_curve, plot_roc\n",
    "\n",
    "import numpy as np\n",
    "from sklearn import datasets\n",
    "from sklearn.ensemble import RandomForestClassifier\n",
    "from sklearn.model_selection import train_test_split\n",
    "\n",
    "\n",
    "# load and process data\n",
    "wbcd = datasets.load_breast_cancer()\n",
    "feature_names = wbcd.feature_names\n",
    "labels = wbcd.target_names\n",
    "\n",
    "test_size = 0.2\n",
    "X_train, X_test, y_train, y_test = train_test_split(\n",
    "    wbcd.data, wbcd.target, test_size=test_size\n",
    ")\n",
    "\n",
    "# train model\n",
    "model = RandomForestClassifier()\n",
    "model.fit(X_train, y_train)\n",
    "model_params = model.get_params()\n",
    "\n",
    "# get predictions\n",
    "y_pred = model.predict(X_test)\n",
    "y_probas = model.predict_proba(X_test)\n",
    "importances = model.feature_importances_\n",
    "indices = np.argsort(importances)[::-1]\n",
    "\n",
    "# start a new wandb run and add your model hyperparameters\n",
    "wandb.init(project=\"my-awesome-project\", config=model_params)\n",
    "\n",
    "# Add additional configs to wandb\n",
    "wandb.config.update(\n",
    "    {\"test_size\": test_size, \"train_len\": len(X_train), \"test_len\": len(X_test)}\n",
    ")\n",
    "\n",
    "# log additional visualisations to wandb\n",
    "plot_class_proportions(y_train, y_test, labels)\n",
    "plot_learning_curve(model, X_train, y_train)\n",
    "plot_roc(y_test, y_probas, labels)\n",
    "plot_precision_recall(y_test, y_probas, labels)\n",
    "plot_feature_importances(model)\n",
    "\n",
    "# [optional] finish the wandb run, necessary in notebooks\n",
    "wandb.finish()"
   ]
  }
 ],
 "metadata": {
  "kernelspec": {
   "display_name": ".venv",
   "language": "python",
   "name": "python3"
  },
  "language_info": {
   "codemirror_mode": {
    "name": "ipython",
    "version": 3
   },
   "file_extension": ".py",
   "mimetype": "text/x-python",
   "name": "python",
   "nbconvert_exporter": "python",
   "pygments_lexer": "ipython3",
   "version": "3.9.6"
  }
 },
 "nbformat": 4,
 "nbformat_minor": 2
}
