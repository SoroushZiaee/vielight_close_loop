{
 "cells": [
  {
   "cell_type": "code",
   "execution_count": null,
   "metadata": {},
   "outputs": [],
   "source": [
    "%load_ext lab_black\n",
    "%load_ext autoreload\n",
    "%autoreload 2\n",
    "%matplotlib inline"
   ]
  },
  {
   "cell_type": "code",
   "execution_count": 1,
   "metadata": {},
   "outputs": [],
   "source": [
    "import matplotlib.pyplot as plt\n",
    "import os\n",
    "import pandas as pd\n",
    "\n",
    "import mne\n",
    "import numpy as np\n",
    "from mne.datasets import sample\n",
    "\n",
    "\n",
    "from mne_connectivity import spectral_connectivity_epochs\n",
    "from mne_connectivity.viz import plot_sensors_connectivity\n",
    "from mne.io import read_raw_eeglab"
   ]
  },
  {
   "cell_type": "markdown",
   "metadata": {},
   "source": [
    "# MNE Example"
   ]
  },
  {
   "cell_type": "code",
   "execution_count": null,
   "metadata": {},
   "outputs": [],
   "source": [
    "fs = 250  # sampling rate (Hz)\n",
    "n_e = 300  # number of epochs\n",
    "T = 10  # length of epochs (s)\n",
    "f = 10  # frequency of sinusoids (Hz)\n",
    "t = np.arange(0, T, 1 / fs)\n",
    "A = 1  # noise amplitude\n",
    "sigma = 0.5  # Gaussian noise variance\n",
    "\n",
    "data = []\n",
    "\n",
    "phase_differences = [0, -np.pi, -np.pi / 2, 0, np.pi / 2, np.pi]\n",
    "for ps in zip(phase_differences):\n",
    "    sig = []\n",
    "    for _ in range(n_e):\n",
    "        sig.append(\n",
    "            np.sin(2 * np.pi * f * t - ps)\n",
    "            + A * np.random.normal(0, sigma, size=t.shape)\n",
    "        )\n",
    "    data.append(sig)\n",
    "\n",
    "data = np.swapaxes(np.array(data), 0, 1)  # make epochs the first dimension"
   ]
  },
  {
   "cell_type": "code",
   "execution_count": null,
   "metadata": {},
   "outputs": [],
   "source": [
    "fig, ax = plt.subplots(1, 2, figsize=(12, 5), sharey=True)\n",
    "ax[0].plot(t[:fs], data[0, 0, :fs], label=\"Reference\")\n",
    "ax[0].plot(t[:fs], data[0, 2, :fs])\n",
    "\n",
    "ax[0].set_title(r\"Phase Lagging ($-\\pi/2$ Phase Difference)\")\n",
    "ax[0].set_xlabel(\"Time (s)\")\n",
    "ax[0].set_ylabel(\"Signal\")\n",
    "ax[0].legend()\n",
    "\n",
    "ax[1].plot(t[:fs], data[0, 0, :fs], label=\"Reference\")\n",
    "ax[1].plot(t[:fs], data[0, 4, :fs])\n",
    "ax[1].set_title(r\"Phase Leading ($\\pi/2$ Phase Difference)\")\n",
    "ax[1].set_xlabel(\"Time (s)\")\n",
    "\n",
    "plt.show()"
   ]
  },
  {
   "cell_type": "code",
   "execution_count": null,
   "metadata": {},
   "outputs": [],
   "source": [
    "conn = []\n",
    "indices = ([0, 0, 0, 0, 0], [1, 2, 3, 4, 5])\n",
    "for method in [\"pli\", \"wpli\", \"dpli\"]:\n",
    "    conn.append(\n",
    "        spectral_connectivity_epochs(\n",
    "            data,\n",
    "            method=method,\n",
    "            sfreq=fs,\n",
    "            indices=indices,\n",
    "            fmin=9,\n",
    "            fmax=11,\n",
    "            faverage=True,\n",
    "        )\n",
    "    )\n",
    "\n",
    "conn = [c.get_data()[:, 0] for c in conn]\n",
    "conn = np.array(conn)"
   ]
  },
  {
   "cell_type": "code",
   "execution_count": null,
   "metadata": {},
   "outputs": [],
   "source": [
    "x = np.arange(5)\n",
    "\n",
    "plt.figure()\n",
    "plt.bar(x - 0.2, conn[0], 0.2, align=\"center\", label=\"PLI\")\n",
    "plt.bar(x, conn[1], 0.2, align=\"center\", label=\"wPLI\")\n",
    "plt.bar(x + 0.2, conn[2], 0.2, align=\"center\", label=\"dPLI\")\n",
    "\n",
    "plt.title(\"Connectivity Estimation Comparison\")\n",
    "plt.xticks(x, (r\"$-\\pi$\", r\"$-\\pi/2$\", r\"$0$\", r\"$\\pi/2$\", r\"$\\pi$\"))\n",
    "plt.legend()\n",
    "plt.xlabel(\"Phase Difference\")\n",
    "plt.ylabel(\"Estimated Connectivity\")\n",
    "\n",
    "plt.show()"
   ]
  },
  {
   "cell_type": "code",
   "execution_count": null,
   "metadata": {},
   "outputs": [],
   "source": [
    "n_noise = 41  # amount of noise amplitude samples in [0, 4]\n",
    "data = [[]]\n",
    "\n",
    "# Generate reference\n",
    "for _ in range(n_e):\n",
    "    data[0].append(np.sin(2 * np.pi * f * t))\n",
    "\n",
    "A_list = np.linspace(0, 4, n_noise)\n",
    "\n",
    "for A in A_list:\n",
    "    sig = []\n",
    "    # Generate other signal\n",
    "    for _ in range(int(n_e / 2)):  # phase difference -pi/100\n",
    "        sig.append(\n",
    "            np.sin(2 * np.pi * f * t + np.pi / 100 + A * np.random.uniform(-1, 1))\n",
    "        )\n",
    "    for _ in range(int(n_e / 2), n_e):  # phase difference pi/2\n",
    "        sig.append(np.sin(2 * np.pi * f * t - np.pi / 2 + A * np.random.uniform(-1, 1)))\n",
    "    data.append(sig)\n",
    "\n",
    "data = np.swapaxes(np.array(data), 0, 1)\n",
    "\n",
    "# Visualize the data\n",
    "fig, ax = plt.subplots(1, 2, figsize=(12, 5), sharey=True)\n",
    "ax[0].plot(t[:10], data[0, 0, :10], label=\"Reference\")\n",
    "ax[0].plot(t[:10], data[1, 1, :10])\n",
    "\n",
    "ax[0].set_title(r\"Phase Lagging ($-\\pi/100$ Phase Difference)\")\n",
    "ax[0].set_xlabel(\"Time (s)\")\n",
    "ax[0].set_ylabel(\"Signal\")\n",
    "ax[0].legend()\n",
    "\n",
    "ax[1].plot(t[:fs], data[0, 0, :fs], label=\"Reference\")\n",
    "ax[1].plot(t[:fs], data[-1, 1, :fs])\n",
    "ax[1].set_title(r\"Phase Leading ($\\pi/2$ Phase Difference)\")\n",
    "ax[1].set_xlabel(\"Time (s)\")\n",
    "\n",
    "plt.show()"
   ]
  },
  {
   "cell_type": "code",
   "execution_count": null,
   "metadata": {},
   "outputs": [],
   "source": [
    "conn = []\n",
    "indices = ([0] * n_noise, np.arange(1, n_noise + 1))\n",
    "for method in [\"pli\", \"wpli\"]:\n",
    "    conn.append(\n",
    "        spectral_connectivity_epochs(\n",
    "            data,\n",
    "            method=method,\n",
    "            sfreq=fs,\n",
    "            indices=indices,\n",
    "            fmin=9,\n",
    "            fmax=11,\n",
    "            faverage=True,\n",
    "        ).get_data()[:, 0]\n",
    "    )\n",
    "conn = np.array(conn)"
   ]
  },
  {
   "cell_type": "code",
   "execution_count": null,
   "metadata": {},
   "outputs": [],
   "source": [
    "plt.figure()\n",
    "plt.plot(A_list, conn[0], \"o-\", label=\"PLI\")\n",
    "plt.plot(A_list, conn[1], \"o-\", label=\"wPLI\")\n",
    "plt.legend()\n",
    "plt.xlabel(\"Noise Amplitude\")\n",
    "plt.ylabel(\"Connectivity Measure\")\n",
    "plt.title(\"wPLI and PLI Under Increasing Noise\")\n",
    "plt.show()"
   ]
  },
  {
   "cell_type": "markdown",
   "metadata": {},
   "source": [
    "# Implement method on our data"
   ]
  },
  {
   "cell_type": "code",
   "execution_count": 2,
   "metadata": {},
   "outputs": [
    {
     "name": "stdout",
     "output_type": "stream",
     "text": [
      "Reading /Users/soroush/Documents/Code/freelance-project/vielight/vielight_close_loop/data/HD_5min40Hz_dur1_pre1_RELAX.fdt\n",
      "Reading 0 ... 70749  =      0.000 ...   141.498 secs...\n"
     ]
    },
    {
     "name": "stderr",
     "output_type": "stream",
     "text": [
      "/var/folders/r3/bw3cwm6125lcm5h39987hgz80000gn/T/ipykernel_72618/1715636727.py:27: RuntimeWarning: Estimated head radius (0.0 cm) is below the 3rd percentile for infant head size. Check if the montage_units argument is correct (the default is \"mm\", but your channel positions may be in different units).\n",
      "  raw = read_raw_eeglab(\n",
      "/var/folders/r3/bw3cwm6125lcm5h39987hgz80000gn/T/ipykernel_72618/1715636727.py:27: RuntimeWarning: Limited 2 annotation(s) that were expanding outside the data range.\n",
      "  raw = read_raw_eeglab(\n",
      "/var/folders/r3/bw3cwm6125lcm5h39987hgz80000gn/T/ipykernel_72618/1715636727.py:27: RuntimeWarning: The data contains 'boundary' events, indicating data discontinuities. Be cautious of filtering and epoching around these events.\n",
      "  raw = read_raw_eeglab(\n"
     ]
    },
    {
     "name": "stdout",
     "output_type": "stream",
     "text": [
      "Reading /Users/soroush/Documents/Code/freelance-project/vielight/vielight_close_loop/data/HD_5min40Hz_dur2_pre2_RELAX.fdt\n",
      "Reading 0 ... 60499  =      0.000 ...   120.998 secs...\n",
      "Reading /Users/soroush/Documents/Code/freelance-project/vielight/vielight_close_loop/data/HD_5min40Hz_dur3_pre3_RELAX.fdt\n",
      "Reading 0 ... 45999  =      0.000 ...    91.998 secs...\n"
     ]
    },
    {
     "name": "stderr",
     "output_type": "stream",
     "text": [
      "/var/folders/r3/bw3cwm6125lcm5h39987hgz80000gn/T/ipykernel_72618/1715636727.py:27: RuntimeWarning: Estimated head radius (0.0 cm) is below the 3rd percentile for infant head size. Check if the montage_units argument is correct (the default is \"mm\", but your channel positions may be in different units).\n",
      "  raw = read_raw_eeglab(\n",
      "/var/folders/r3/bw3cwm6125lcm5h39987hgz80000gn/T/ipykernel_72618/1715636727.py:27: RuntimeWarning: Limited 2 annotation(s) that were expanding outside the data range.\n",
      "  raw = read_raw_eeglab(\n",
      "/var/folders/r3/bw3cwm6125lcm5h39987hgz80000gn/T/ipykernel_72618/1715636727.py:27: RuntimeWarning: The data contains 'boundary' events, indicating data discontinuities. Be cautious of filtering and epoching around these events.\n",
      "  raw = read_raw_eeglab(\n",
      "/var/folders/r3/bw3cwm6125lcm5h39987hgz80000gn/T/ipykernel_72618/1715636727.py:27: RuntimeWarning: Estimated head radius (0.0 cm) is below the 3rd percentile for infant head size. Check if the montage_units argument is correct (the default is \"mm\", but your channel positions may be in different units).\n",
      "  raw = read_raw_eeglab(\n",
      "/var/folders/r3/bw3cwm6125lcm5h39987hgz80000gn/T/ipykernel_72618/1715636727.py:27: RuntimeWarning: Limited 2 annotation(s) that were expanding outside the data range.\n",
      "  raw = read_raw_eeglab(\n",
      "/var/folders/r3/bw3cwm6125lcm5h39987hgz80000gn/T/ipykernel_72618/1715636727.py:27: RuntimeWarning: The data contains 'boundary' events, indicating data discontinuities. Be cautious of filtering and epoching around these events.\n",
      "  raw = read_raw_eeglab(\n"
     ]
    },
    {
     "name": "stdout",
     "output_type": "stream",
     "text": [
      "Reading /Users/soroush/Documents/Code/freelance-project/vielight/vielight_close_loop/data/HD_5min40Hz_dur1_post1_RELAX.fdt\n",
      "Reading 0 ... 50999  =      0.000 ...   101.998 secs...\n",
      "Reading /Users/soroush/Documents/Code/freelance-project/vielight/vielight_close_loop/data/HD_5min40Hz_dur2_post2_RELAX.fdt\n",
      "Reading 0 ... 79249  =      0.000 ...   158.498 secs...\n"
     ]
    },
    {
     "name": "stderr",
     "output_type": "stream",
     "text": [
      "/var/folders/r3/bw3cwm6125lcm5h39987hgz80000gn/T/ipykernel_72618/1715636727.py:55: RuntimeWarning: Estimated head radius (0.0 cm) is below the 3rd percentile for infant head size. Check if the montage_units argument is correct (the default is \"mm\", but your channel positions may be in different units).\n",
      "  raw = read_raw_eeglab(\n",
      "/var/folders/r3/bw3cwm6125lcm5h39987hgz80000gn/T/ipykernel_72618/1715636727.py:55: RuntimeWarning: Limited 2 annotation(s) that were expanding outside the data range.\n",
      "  raw = read_raw_eeglab(\n",
      "/var/folders/r3/bw3cwm6125lcm5h39987hgz80000gn/T/ipykernel_72618/1715636727.py:55: RuntimeWarning: The data contains 'boundary' events, indicating data discontinuities. Be cautious of filtering and epoching around these events.\n",
      "  raw = read_raw_eeglab(\n",
      "/var/folders/r3/bw3cwm6125lcm5h39987hgz80000gn/T/ipykernel_72618/1715636727.py:55: RuntimeWarning: Estimated head radius (0.0 cm) is below the 3rd percentile for infant head size. Check if the montage_units argument is correct (the default is \"mm\", but your channel positions may be in different units).\n",
      "  raw = read_raw_eeglab(\n"
     ]
    },
    {
     "name": "stdout",
     "output_type": "stream",
     "text": [
      "Reading /Users/soroush/Documents/Code/freelance-project/vielight/vielight_close_loop/data/HD_5min40Hz_dur3_post3_part2_RELAX.fdt\n",
      "Reading 0 ... 46999  =      0.000 ...    93.998 secs...\n"
     ]
    },
    {
     "name": "stderr",
     "output_type": "stream",
     "text": [
      "/var/folders/r3/bw3cwm6125lcm5h39987hgz80000gn/T/ipykernel_72618/1715636727.py:55: RuntimeWarning: Limited 2 annotation(s) that were expanding outside the data range.\n",
      "  raw = read_raw_eeglab(\n",
      "/var/folders/r3/bw3cwm6125lcm5h39987hgz80000gn/T/ipykernel_72618/1715636727.py:55: RuntimeWarning: The data contains 'boundary' events, indicating data discontinuities. Be cautious of filtering and epoching around these events.\n",
      "  raw = read_raw_eeglab(\n",
      "/var/folders/r3/bw3cwm6125lcm5h39987hgz80000gn/T/ipykernel_72618/1715636727.py:55: RuntimeWarning: Estimated head radius (0.0 cm) is below the 3rd percentile for infant head size. Check if the montage_units argument is correct (the default is \"mm\", but your channel positions may be in different units).\n",
      "  raw = read_raw_eeglab(\n",
      "/var/folders/r3/bw3cwm6125lcm5h39987hgz80000gn/T/ipykernel_72618/1715636727.py:55: RuntimeWarning: Limited 2 annotation(s) that were expanding outside the data range.\n",
      "  raw = read_raw_eeglab(\n",
      "/var/folders/r3/bw3cwm6125lcm5h39987hgz80000gn/T/ipykernel_72618/1715636727.py:55: RuntimeWarning: The data contains 'boundary' events, indicating data discontinuities. Be cautious of filtering and epoching around these events.\n",
      "  raw = read_raw_eeglab(\n"
     ]
    }
   ],
   "source": [
    "# Load data\n",
    "\n",
    "input_fnames = {\n",
    "    \"pre\": [\n",
    "        \"/Users/soroush/Documents/Code/freelance-project/vielight/vielight_close_loop/data/HD_5min40Hz_dur1_pre1_RELAX.set\",\n",
    "        \"/Users/soroush/Documents/Code/freelance-project/vielight/vielight_close_loop/data/HD_5min40Hz_dur2_pre2_RELAX.set\",\n",
    "        \"/Users/soroush/Documents/Code/freelance-project/vielight/vielight_close_loop/data/HD_5min40Hz_dur3_pre3_RELAX.set\",\n",
    "    ],\n",
    "    \"break\": [\n",
    "        \"/Users/soroush/Documents/Code/freelance-project/vielight/vielight_close_loop/data/HD_5min40Hz_dur2_RELAX.set\",\n",
    "        \"/Users/soroush/Documents/Code/freelance-project/vielight/vielight_close_loop/data/HD_5min40Hz_dur3_RELAX.set\",\n",
    "    ],\n",
    "    \"post\": [\n",
    "        \"/Users/soroush/Documents/Code/freelance-project/vielight/vielight_close_loop/data/HD_5min40Hz_dur1_post1_RELAX.set\",\n",
    "        \"/Users/soroush/Documents/Code/freelance-project/vielight/vielight_close_loop/data/HD_5min40Hz_dur2_post2_RELAX.set\",\n",
    "        # \"/Users/soroush/Documents/Code/freelance-project/vielight/vielight_close_loop/data/HD_5min40Hz_dur3_post3_RELAX.set\",\n",
    "        \"/Users/soroush/Documents/Code/freelance-project/vielight/vielight_close_loop/data/HD_5min40Hz_dur3_post3_part2_RELAX.set\",\n",
    "    ],\n",
    "}\n",
    "\n",
    "epoch_length = 5\n",
    "overlap = 0.3\n",
    "eog = ()\n",
    "\n",
    "pre_raws = []\n",
    "for input_fname in input_fnames[\"pre\"]:\n",
    "    raw = read_raw_eeglab(\n",
    "        input_fname=input_fname,\n",
    "        eog=eog,\n",
    "        preload=True,\n",
    "        montage_units=\"mm\",\n",
    "        verbose=True,\n",
    "    )\n",
    "    raw.rename_channels(lambda x: x.strip(\".\"))\n",
    "    raw.rename_channels(\n",
    "        mapping={\n",
    "            \"FPZ\": \"Fpz\",\n",
    "            \"OZ\": \"Oz\",\n",
    "            \"FP1\": \"Fp1\",\n",
    "            \"FP2\": \"Fp2\",\n",
    "            \"FZ\": \"Fz\",\n",
    "            \"FCZ\": \"FCz\",\n",
    "            \"CPZ\": \"CPz\",\n",
    "            \"PZ\": \"Pz\",\n",
    "            \"POZ\": \"POz\",\n",
    "        }\n",
    "    )\n",
    "    raw.drop_channels([\"FT11\", \"F12\", \"F11\"])\n",
    "    montage = mne.channels.make_standard_montage(\"standard_1020\")\n",
    "    raw.set_montage(montage)\n",
    "    pre_raws.append(raw)\n",
    "\n",
    "post_raws = []\n",
    "for input_fname in input_fnames[\"post\"]:\n",
    "    raw = read_raw_eeglab(\n",
    "        input_fname=input_fname,\n",
    "        eog=eog,\n",
    "        preload=True,\n",
    "        montage_units=\"mm\",\n",
    "        verbose=True,\n",
    "    )\n",
    "    raw.rename_channels(lambda x: x.strip(\".\"))\n",
    "    # ['FP1', 'FP2', 'FZ', 'FCZ', 'CPZ', 'PZ', 'POZ'].\n",
    "    raw.rename_channels(\n",
    "        mapping={\n",
    "            \"FPZ\": \"Fpz\",\n",
    "            \"OZ\": \"Oz\",\n",
    "            \"FP1\": \"Fp1\",\n",
    "            \"FP2\": \"Fp2\",\n",
    "            \"FZ\": \"Fz\",\n",
    "            \"FCZ\": \"FCz\",\n",
    "            \"CPZ\": \"CPz\",\n",
    "            \"PZ\": \"Pz\",\n",
    "            \"POZ\": \"POz\",\n",
    "        }\n",
    "    )\n",
    "    raw.drop_channels([\"FT11\", \"F12\", \"F11\"])\n",
    "    montage = mne.channels.make_standard_montage(\"standard_1020\")\n",
    "    raw.set_montage(montage)\n",
    "    post_raws.append(raw)\n",
    "\n",
    "len(pre_raws), len(post_raws)\n",
    "\n",
    "\n",
    "def extract_metadata(raw, stage: str = \"pre\"):\n",
    "    metadata = {\n",
    "        \"stage\": stage,\n",
    "        \"filename\": os.path.basename(raw.filenames[0]),\n",
    "        \"n_channels\": len(raw.info[\"ch_names\"]),\n",
    "        \"duration\": raw.times[-1],  # in seconds\n",
    "        \"sample_rate\": raw.info[\"sfreq\"],\n",
    "    }\n",
    "    return metadata\n",
    "\n",
    "\n",
    "metadata = [extract_metadata(raw=raw) for raw in pre_raws] + [\n",
    "    extract_metadata(raw=raw, stage=\"post\") for raw in post_raws\n",
    "]\n",
    "\n",
    "columns = [\"stage\", \"filename\", \"n_channels\", \"duration\", \"sample_rate\"]\n",
    "metadata = pd.DataFrame(metadata, columns=columns)"
   ]
  },
  {
   "cell_type": "code",
   "execution_count": 3,
   "metadata": {},
   "outputs": [],
   "source": [
    "# based on the lowet duration make new raw data\n",
    "# first we need to ignore the first and last 10 seconds of the data\n",
    "# then take 70 seconds of the data\n",
    "\n",
    "pre_raws = [raw.crop(tmin=10, tmax=raw.times[-1] - 10) for raw in pre_raws]\n",
    "post_raws = [raw.crop(tmin=10, tmax=raw.times[-1] - 10) for raw in post_raws]\n",
    "\n",
    "pre_raws = [raw.crop(tmin=0, tmax=70) for raw in pre_raws]\n",
    "post_raws = [raw.crop(tmin=0, tmax=70) for raw in post_raws]\n",
    "\n",
    "modified_metadata = [extract_metadata(raw=raw) for raw in pre_raws] + [\n",
    "    extract_metadata(raw=raw, stage=\"post\") for raw in post_raws\n",
    "]\n",
    "\n",
    "columns = [\"stage\", \"filename\", \"n_channels\", \"duration\", \"sample_rate\"]\n",
    "modified_metadata = pd.DataFrame(modified_metadata, columns=columns)"
   ]
  },
  {
   "cell_type": "code",
   "execution_count": 4,
   "metadata": {},
   "outputs": [
    {
     "data": {
      "text/plain": [
       "((3, 55, 35001), (3, 55, 35001))"
      ]
     },
     "execution_count": 4,
     "metadata": {},
     "output_type": "execute_result"
    }
   ],
   "source": [
    "# convert the raw data to arrays\n",
    "\n",
    "pre_data = np.array([raw.get_data() for raw in pre_raws])\n",
    "post_data = np.array([raw.get_data() for raw in post_raws])\n",
    "\n",
    "pre_data.shape, post_data.shape"
   ]
  },
  {
   "cell_type": "code",
   "execution_count": 5,
   "metadata": {},
   "outputs": [
    {
     "name": "stdout",
     "output_type": "stream",
     "text": [
      "Connectivity computation...\n",
      "only using indices for lower-triangular matrix\n",
      "    computing connectivity for 1485 connections\n",
      "    using t=0.000s..70.000s for estimation (35001 points)\n",
      "    frequencies: 8.0Hz..50.0Hz (2940 points)\n",
      "    connectivity scores will be averaged for each band\n",
      "    Using multitaper spectrum estimation with 7 DPSS windows\n",
      "    the following metrics will be computed: WPLI\n",
      "    computing cross-spectral density for epochs 1..1\n"
     ]
    },
    {
     "name": "stderr",
     "output_type": "stream",
     "text": [
      "[Parallel(n_jobs=-1)]: Using backend LokyBackend with 16 concurrent workers.\n"
     ]
    },
    {
     "name": "stdout",
     "output_type": "stream",
     "text": [
      "    computing cross-spectral density for epochs 2..2\n"
     ]
    },
    {
     "name": "stderr",
     "output_type": "stream",
     "text": [
      "[Parallel(n_jobs=-1)]: Using backend LokyBackend with 16 concurrent workers.\n"
     ]
    },
    {
     "name": "stdout",
     "output_type": "stream",
     "text": [
      "    computing cross-spectral density for epochs 3..3\n"
     ]
    },
    {
     "name": "stderr",
     "output_type": "stream",
     "text": [
      "[Parallel(n_jobs=-1)]: Using backend LokyBackend with 16 concurrent workers.\n"
     ]
    },
    {
     "name": "stdout",
     "output_type": "stream",
     "text": [
      "    assembling connectivity matrix\n",
      "[Connectivity computation done]\n",
      "Connectivity computation...\n",
      "only using indices for lower-triangular matrix\n",
      "    computing connectivity for 1485 connections\n",
      "    using t=0.000s..70.000s for estimation (35001 points)\n",
      "    frequencies: 8.0Hz..50.0Hz (2940 points)\n",
      "    connectivity scores will be averaged for each band\n",
      "    Using multitaper spectrum estimation with 7 DPSS windows\n",
      "    the following metrics will be computed: WPLI\n",
      "    computing cross-spectral density for epochs 1..1\n"
     ]
    },
    {
     "name": "stderr",
     "output_type": "stream",
     "text": [
      "[Parallel(n_jobs=-1)]: Using backend LokyBackend with 16 concurrent workers.\n"
     ]
    },
    {
     "name": "stdout",
     "output_type": "stream",
     "text": [
      "    computing cross-spectral density for epochs 2..2\n"
     ]
    },
    {
     "name": "stderr",
     "output_type": "stream",
     "text": [
      "[Parallel(n_jobs=-1)]: Using backend LokyBackend with 16 concurrent workers.\n"
     ]
    },
    {
     "name": "stdout",
     "output_type": "stream",
     "text": [
      "    computing cross-spectral density for epochs 3..3\n"
     ]
    },
    {
     "name": "stderr",
     "output_type": "stream",
     "text": [
      "[Parallel(n_jobs=-1)]: Using backend LokyBackend with 16 concurrent workers.\n"
     ]
    },
    {
     "name": "stdout",
     "output_type": "stream",
     "text": [
      "    assembling connectivity matrix\n",
      "[Connectivity computation done]\n"
     ]
    }
   ],
   "source": [
    "sfreq = pre_raws[0].info[\"sfreq\"]\n",
    "fmin = 8\n",
    "fmax = 50\n",
    "tmin = 0\n",
    "\n",
    "pre_con_wpli = spectral_connectivity_epochs(\n",
    "    pre_data,\n",
    "    method=\"wpli\",\n",
    "    mode=\"multitaper\",\n",
    "    sfreq=sfreq,\n",
    "    fmin=fmin,\n",
    "    fmax=fmax,\n",
    "    faverage=True,  # Average connectivity scores for each frequency band. If True, the output freqs will be a list with arrays of the frequencies that were averaged.\n",
    "    tmin=tmin,\n",
    "    mt_adaptive=False,  # Use adaptive weights for multitaper\n",
    "    n_jobs=-1,\n",
    ")\n",
    "\n",
    "post_con_wpli = spectral_connectivity_epochs(\n",
    "    post_data,\n",
    "    method=\"wpli\",\n",
    "    mode=\"multitaper\",\n",
    "    sfreq=sfreq,\n",
    "    fmin=fmin,\n",
    "    fmax=fmax,\n",
    "    faverage=True,\n",
    "    tmin=tmin,\n",
    "    mt_adaptive=False,\n",
    "    n_jobs=-1,\n",
    ")"
   ]
  },
  {
   "cell_type": "code",
   "execution_count": 7,
   "metadata": {},
   "outputs": [
    {
     "data": {
      "image/png": "[encoded data removed]",
      "text/plain": [
       "<Figure size 1400x500 with 3 Axes>"
      ]
     },
     "metadata": {},
     "output_type": "display_data"
    }
   ],
   "source": [
    "fig, axs = plt.subplots(1, 2, figsize=(14, 5), sharey=True)\n",
    "axs[0].imshow(pre_con_wpli.get_data(\"dense\")[:, :, 0], vmin=0, vmax=1, cmap='tab20c')\n",
    "axs[0].set_title(\"Pre wPLI\")\n",
    "axs[0].set_ylabel(\"EEG\")\n",
    "axs[0].set_xlabel(\"EEG\")\n",
    "\n",
    "im = axs[1].imshow(post_con_wpli.get_data(\"dense\")[:, :, 0], vmin=0, vmax=1, cmap='tab20c')\n",
    "axs[1].set_title(\"Post wPLI\")\n",
    "axs[1].set_xlabel(\"EEG\")\n",
    "\n",
    "fig.colorbar(im, ax=axs.ravel())\n",
    "plt.show()"
   ]
  },
  {
   "cell_type": "markdown",
   "metadata": {},
   "source": [
    "# Visualization"
   ]
  },
  {
   "cell_type": "markdown",
   "metadata": {
    "jp-MarkdownHeadingCollapsed": true
   },
   "source": [
    "## visualize it using a circular graph "
   ]
  },
  {
   "cell_type": "code",
   "execution_count": null,
   "metadata": {},
   "outputs": [],
   "source": [
    "# Author: Annalisa Pascarella <a.pascarella@iac.cnr.it>\n",
    "#\n",
    "# License: BSD (3-clause)\n",
    "\n",
    "import os.path as op\n",
    "\n",
    "import matplotlib.pyplot as plt\n",
    "import mne\n",
    "import numpy as np\n",
    "from mne import make_forward_solution, setup_source_space, setup_volume_source_space\n",
    "from mne.datasets import sample\n",
    "from mne.io import read_raw_fif\n",
    "from mne.minimum_norm import apply_inverse_epochs, make_inverse_operator\n",
    "from mne.viz import circular_layout\n",
    "\n",
    "from mne_connectivity import spectral_connectivity_epochs\n",
    "from mne_connectivity.viz import plot_connectivity_circle\n",
    "\n",
    "# Set directories\n",
    "data_path = sample.data_path()\n",
    "subject = \"sample\"\n",
    "data_dir = op.join(data_path, \"MEG\", subject)\n",
    "subjects_dir = op.join(data_path, \"subjects\")\n",
    "bem_dir = op.join(subjects_dir, subject, \"bem\")\n",
    "\n",
    "# Set file names\n",
    "fname_aseg = op.join(subjects_dir, subject, \"mri\", \"aseg.mgz\")\n",
    "\n",
    "fname_model = op.join(bem_dir, \"%s-5120-bem.fif\" % subject)\n",
    "fname_bem = op.join(bem_dir, \"%s-5120-bem-sol.fif\" % subject)\n",
    "\n",
    "fname_raw = op.join(data_dir, \"sample_audvis_filt-0-40_raw.fif\")\n",
    "fname_trans = op.join(data_dir, \"sample_audvis_raw-trans.fif\")\n",
    "fname_cov = op.join(data_dir, \"ernoise-cov.fif\")\n",
    "fname_event = op.join(data_dir, \"sample_audvis_filt-0-40_raw-eve.fif\")\n",
    "\n",
    "# List of sub structures we are interested in. We select only the\n",
    "# sub structures we want to include in the source space\n",
    "labels_vol = [\n",
    "    \"Left-Amygdala\",\n",
    "    \"Left-Thalamus-Proper\",\n",
    "    \"Left-Cerebellum-Cortex\",\n",
    "    \"Brain-Stem\",\n",
    "    \"Right-Amygdala\",\n",
    "    \"Right-Thalamus-Proper\",\n",
    "    \"Right-Cerebellum-Cortex\",\n",
    "]\n",
    "\n",
    "# Setup a surface-based source space, oct5 is not very dense (just used\n",
    "# to speed up this example; we recommend oct6 in actual analyses)\n",
    "src = setup_source_space(\n",
    "    subject, subjects_dir=subjects_dir, spacing=\"oct5\", add_dist=False\n",
    ")\n",
    "\n",
    "# Setup a volume source space\n",
    "# set pos=10.0 for speed, not very accurate; we recommend something smaller\n",
    "# like 5.0 in actual analyses:\n",
    "vol_src = setup_volume_source_space(\n",
    "    subject,\n",
    "    mri=fname_aseg,\n",
    "    pos=10.0,\n",
    "    bem=fname_model,\n",
    "    add_interpolator=False,  # just for speed, usually use True\n",
    "    volume_label=labels_vol,\n",
    "    subjects_dir=subjects_dir,\n",
    ")\n",
    "# Generate the mixed source space\n",
    "src += vol_src\n",
    "\n",
    "# Load data\n",
    "raw = read_raw_fif(fname_raw)\n",
    "raw.pick_types(meg=True, eeg=False, eog=True, stim=True).load_data()\n",
    "events = mne.find_events(raw)\n",
    "noise_cov = mne.read_cov(fname_cov)\n",
    "\n",
    "# compute the fwd matrix\n",
    "fwd = make_forward_solution(\n",
    "    raw.info, fname_trans, src, fname_bem, mindist=5.0\n",
    ")  # ignore sources<=5mm from innerskull\n",
    "del src\n",
    "\n",
    "# Define epochs for left-auditory condition\n",
    "event_id, tmin, tmax = 1, -0.2, 0.5\n",
    "reject = dict(mag=4e-12, grad=4000e-13, eog=150e-6)\n",
    "epochs = mne.Epochs(raw, events, event_id, tmin, tmax, reject=reject, preload=False)\n",
    "del raw\n",
    "\n",
    "# Compute inverse solution and for each epoch\n",
    "snr = 1.0  # use smaller SNR for raw data\n",
    "inv_method = \"dSPM\"\n",
    "parc = \"aparc\"  # the parcellation to use, e.g., 'aparc' 'aparc.a2009s'\n",
    "\n",
    "lambda2 = 1.0 / snr**2\n",
    "\n",
    "# Compute inverse operator\n",
    "inverse_operator = make_inverse_operator(\n",
    "    epochs.info, fwd, noise_cov, depth=None, fixed=False\n",
    ")\n",
    "del fwd\n",
    "\n",
    "stcs = apply_inverse_epochs(\n",
    "    epochs, inverse_operator, lambda2, inv_method, pick_ori=None, return_generator=True\n",
    ")\n",
    "\n",
    "# Get labels for FreeSurfer 'aparc' cortical parcellation with 34 labels/hemi\n",
    "labels_parc = mne.read_labels_from_annot(subject, parc=parc, subjects_dir=subjects_dir)\n",
    "\n",
    "# Average the source estimates within each label of the cortical parcellation\n",
    "# and each sub-structure contained in the source space.\n",
    "# When mode = 'mean_flip', this option is used only for the cortical labels.\n",
    "src = inverse_operator[\"src\"]\n",
    "label_ts = mne.extract_label_time_course(\n",
    "    stcs, labels_parc, src, mode=\"mean_flip\", allow_empty=True, return_generator=True\n",
    ")\n",
    "\n",
    "# We compute the connectivity in the alpha band and plot it using a circular\n",
    "# graph layout\n",
    "fmin = 8.0\n",
    "fmax = 13.0\n",
    "sfreq = epochs.info[\"sfreq\"]  # the sampling frequency\n",
    "con = spectral_connectivity_epochs(\n",
    "    label_ts,\n",
    "    method=\"pli\",\n",
    "    mode=\"multitaper\",\n",
    "    sfreq=sfreq,\n",
    "    fmin=fmin,\n",
    "    fmax=fmax,\n",
    "    faverage=True,\n",
    "    mt_adaptive=True,\n",
    "    n_jobs=1,\n",
    ")\n",
    "\n",
    "# We create a list of Label containing also the sub structures\n",
    "labels_aseg = mne.get_volume_labels_from_src(src, subject, subjects_dir)\n",
    "labels = labels_parc + labels_aseg\n",
    "\n",
    "# read colors\n",
    "node_colors = [label.color for label in labels]\n",
    "\n",
    "# We reorder the labels based on their location in the left hemi\n",
    "label_names = [label.name for label in labels]\n",
    "lh_labels = [name for name in label_names if name.endswith(\"lh\")]\n",
    "rh_labels = [name for name in label_names if name.endswith(\"rh\")]\n",
    "\n",
    "# Get the y-location of the label\n",
    "label_ypos_lh = list()\n",
    "for name in lh_labels:\n",
    "    idx = label_names.index(name)\n",
    "    ypos = np.mean(labels[idx].pos[:, 1])\n",
    "    label_ypos_lh.append(ypos)\n",
    "try:\n",
    "    idx = label_names.index(\"Brain-Stem\")\n",
    "except ValueError:\n",
    "    pass\n",
    "else:\n",
    "    ypos = np.mean(labels[idx].pos[:, 1])\n",
    "    lh_labels.append(\"Brain-Stem\")\n",
    "    label_ypos_lh.append(ypos)\n",
    "\n",
    "\n",
    "# Reorder the labels based on their location\n",
    "lh_labels = [label for (yp, label) in sorted(zip(label_ypos_lh, lh_labels))]\n",
    "\n",
    "# For the right hemi\n",
    "rh_labels = [\n",
    "    label[:-2] + \"rh\"\n",
    "    for label in lh_labels\n",
    "    if label != \"Brain-Stem\" and label[:-2] + \"rh\" in rh_labels\n",
    "]\n",
    "\n",
    "# Save the plot order\n",
    "node_order = lh_labels[::-1] + rh_labels\n",
    "\n",
    "node_angles = circular_layout(\n",
    "    label_names, node_order, start_pos=90, group_boundaries=[0, len(label_names) // 2]\n",
    ")\n",
    "\n",
    "\n",
    "# Plot the graph using node colors from the FreeSurfer parcellation. We only\n",
    "# show the 300 strongest connections.\n",
    "conmat = con.get_data(output=\"dense\")[:, :, 0]\n",
    "fig, ax = plt.subplots(figsize=(8, 8), facecolor=\"black\", subplot_kw=dict(polar=True))\n",
    "plot_connectivity_circle(\n",
    "    conmat,\n",
    "    label_names,\n",
    "    n_lines=300,\n",
    "    node_angles=node_angles,\n",
    "    node_colors=node_colors,\n",
    "    title=\"All-to-All Connectivity left-Auditory \" \"Condition (PLI)\",\n",
    "    ax=ax,\n",
    ")\n",
    "fig.tight_layout()"
   ]
  },
  {
   "cell_type": "code",
   "execution_count": null,
   "metadata": {},
   "outputs": [],
   "source": [
    "print(f\"{labels_parc = }\")"
   ]
  },
  {
   "cell_type": "code",
   "execution_count": null,
   "metadata": {},
   "outputs": [],
   "source": [
    "print(label_ts)"
   ]
  },
  {
   "cell_type": "code",
   "execution_count": null,
   "metadata": {},
   "outputs": [],
   "source": [
    "print(label_names)"
   ]
  },
  {
   "cell_type": "code",
   "execution_count": null,
   "metadata": {},
   "outputs": [],
   "source": [
    "print(node_angles)"
   ]
  },
  {
   "cell_type": "code",
   "execution_count": null,
   "metadata": {},
   "outputs": [],
   "source": [
    "print(node_colors)\n"
   ]
  },
  {
   "cell_type": "code",
   "execution_count": null,
   "metadata": {},
   "outputs": [],
   "source": [
    "print(label_names)"
   ]
  },
  {
   "cell_type": "code",
   "execution_count": null,
   "metadata": {},
   "outputs": [],
   "source": [
    "print(node_order)"
   ]
  },
  {
   "cell_type": "markdown",
   "metadata": {},
   "source": [
    "## Visualize for our own data"
   ]
  },
  {
   "cell_type": "code",
   "execution_count": 16,
   "metadata": {},
   "outputs": [
    {
     "data": {
      "image/png": "[encoded data removed]",
      "text/plain": [
       "<Figure size 800x800 with 2 Axes>"
      ]
     },
     "metadata": {},
     "output_type": "display_data"
    }
   ],
   "source": [
    "# First we need a node colors\n",
    "import os.path as op\n",
    "\n",
    "import matplotlib.pyplot as plt\n",
    "import mne\n",
    "import numpy as np\n",
    "from mne import make_forward_solution, setup_source_space, setup_volume_source_space\n",
    "from mne.datasets import sample\n",
    "from mne.io import read_raw_fif\n",
    "from mne.minimum_norm import apply_inverse_epochs, make_inverse_operator\n",
    "from mne.viz import circular_layout\n",
    "\n",
    "from mne_connectivity import spectral_connectivity_epochs\n",
    "from mne_connectivity.viz import plot_connectivity_circle\n",
    "\n",
    "import random\n",
    "\n",
    "\n",
    "def generate_colors(num_colors):\n",
    "    colors = []\n",
    "    for _ in range(num_colors):\n",
    "        r = round(random.random(), 3)\n",
    "        g = round(random.random(), 3)\n",
    "        b = round(random.random(), 3)\n",
    "        a = 1.0  # Keeping alpha at 1.0 for full opacity\n",
    "        colors.append((r, g, b, a))\n",
    "    return colors\n",
    "\n",
    "\n",
    "# For our cases right now we can use same order of label_names\n",
    "label_names = pre_raws[0].ch_names\n",
    "node_order = label_names\n",
    "\n",
    "# Second we need to define Node Angle\n",
    "node_angles = circular_layout(\n",
    "    label_names, node_order, start_pos=90, group_boundaries=[0, len(label_names) // 2]\n",
    ")\n",
    "\n",
    "\n",
    "node_colors = generate_colors(len(label_names))\n",
    "\n",
    "# Third we're gonna need a connection matrix which we already calculate it\n",
    "\n",
    "# Here we're gonna only use channel names as demonstrator\n",
    "\n",
    "fig, ax = plt.subplots(figsize=(8, 8), facecolor=\"black\", subplot_kw=dict(polar=True))\n",
    "# plot_connectivity_circle(\n",
    "#     pre_con_wpli.get_data(\"dense\")[:, :, 0],\n",
    "#     label_names,\n",
    "#     n_lines=20,\n",
    "#     node_angles=node_angles,\n",
    "#     node_colors=node_colors,\n",
    "#     title=\"All-to-All Connectivity Pre stimuli\" \"Condition (wPLI)\",\n",
    "#     ax=ax,\n",
    "# )\n",
    "\n",
    "plot_connectivity_circle(\n",
    "    post_con_wpli.get_data(\"dense\")[:, :, 0],\n",
    "    label_names,\n",
    "    n_lines=20,\n",
    "    node_angles=node_angles,\n",
    "    node_colors=node_colors,\n",
    "    title=\"All-to-All Connectivity Post stimuli\" \"Condition (wPLI)\",\n",
    "    ax=ax,\n",
    ")\n",
    "fig.tight_layout()"
   ]
  }
 ],
 "metadata": {
  "kernelspec": {
   "display_name": "Python 3 (ipykernel)",
   "language": "python",
   "name": "python3"
  },
  "language_info": {
   "codemirror_mode": {
    "name": "ipython",
    "version": 3
   },
   "file_extension": ".py",
   "mimetype": "text/x-python",
   "name": "python",
   "nbconvert_exporter": "python",
   "pygments_lexer": "ipython3",
   "version": "3.9.6"
  }
 },
 "nbformat": 4,
 "nbformat_minor": 4
}
