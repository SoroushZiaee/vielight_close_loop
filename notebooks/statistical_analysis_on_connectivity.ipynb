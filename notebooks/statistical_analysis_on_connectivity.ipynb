{
 "cells": [
  {
   "cell_type": "code",
   "execution_count": 42,
   "metadata": {},
   "outputs": [],
   "source": [
    "import pickle\n",
    "import numpy as np\n",
    "from itertools import combinations\n",
    "\n",
    "from scipy.stats import wilcoxon\n",
    "from statsmodels.stats.multitest import multipletests"
   ]
  },
  {
   "cell_type": "code",
   "execution_count": 22,
   "metadata": {},
   "outputs": [],
   "source": [
    "def extract_lower_triangular(matrix):\n",
    "    return matrix[np.tril_indices(matrix.shape[0], k=-1)]\n",
    "\n",
    "def extract_stage_lower_triangular(connectivity, stage):\n",
    "    return extract_lower_triangular(connectivity[stage].get_data(\"dense\").squeeze())"
   ]
  },
  {
   "cell_type": "code",
   "execution_count": 2,
   "metadata": {},
   "outputs": [],
   "source": [
    "# load data\n",
    "with open('/Users/soroush/Documents/Code/freelance-project/vielight/vielight_close_loop/dpli_connectivity.pkl', 'rb') as f:\n",
    "    dpli_connectivity = pickle.load(f)\n",
    "\n",
    "with open('/Users/soroush/Documents/Code/freelance-project/vielight/vielight_close_loop/wpli_connectivity.pkl', 'rb') as f:\n",
    "    wpli_connectivity = pickle.load(f)"
   ]
  },
  {
   "cell_type": "code",
   "execution_count": 29,
   "metadata": {},
   "outputs": [],
   "source": [
    "flatten_connectivity = dpli_connectivity[\"pre\"].get_data()\n",
    "connectivity = dpli_connectivity[\"pre\"].get_data(\"dense\").squeeze()"
   ]
  },
  {
   "cell_type": "code",
   "execution_count": 52,
   "metadata": {},
   "outputs": [],
   "source": [
    "triangular_matrice = {stage: extract_stage_lower_triangular(wpli_connectivity, stage) for stage in [\"pre\", \"during\", \"post\"]}"
   ]
  },
  {
   "cell_type": "code",
   "execution_count": 53,
   "metadata": {},
   "outputs": [],
   "source": [
    "from itertools import combinations\n",
    "\n",
    "# calculate the correlation between the lower triangular matrices\n",
    "correlations = {}\n",
    "for stage1, stage2 in combinations(triangular_matrice.keys(), 2):\n",
    "    correlations[f\"{stage1}_{stage2}\"] = wilcoxon(triangular_matrice[stage1], triangular_matrice[stage2])"
   ]
  },
  {
   "cell_type": "code",
   "execution_count": 54,
   "metadata": {},
   "outputs": [
    {
     "data": {
      "text/plain": [
       "{'pre_during': WilcoxonResult(statistic=18831.0, pvalue=1.3616590055863041e-173),\n",
       " 'pre_post': WilcoxonResult(statistic=41988.0, pvalue=3.6044230110910713e-150),\n",
       " 'during_post': WilcoxonResult(statistic=110922.0, pvalue=1.382048093713617e-90)}"
      ]
     },
     "execution_count": 54,
     "metadata": {},
     "output_type": "execute_result"
    }
   ],
   "source": [
    "correlations"
   ]
  },
  {
   "cell_type": "code",
   "execution_count": 55,
   "metadata": {},
   "outputs": [],
   "source": [
    "# Combine p-values for correction\n",
    "p_values = list(map(lambda x: x[1],correlations.values()))\n",
    "\n",
    "# Apply Bonferroni correction\n",
    "corrected_p_values = multipletests(p_values, alpha=0.05, method='bonferroni')"
   ]
  },
  {
   "cell_type": "code",
   "execution_count": 56,
   "metadata": {},
   "outputs": [
    {
     "data": {
      "text/plain": [
       "[1.3616590055863041e-173, 3.6044230110910713e-150, 1.382048093713617e-90]"
      ]
     },
     "execution_count": 56,
     "metadata": {},
     "output_type": "execute_result"
    }
   ],
   "source": [
    "p_values"
   ]
  },
  {
   "cell_type": "code",
   "execution_count": 57,
   "metadata": {},
   "outputs": [
    {
     "data": {
      "text/plain": [
       "(array([ True,  True,  True]),\n",
       " array([4.08497702e-173, 1.08132690e-149, 4.14614428e-090]),\n",
       " 0.016952427508441503,\n",
       " 0.016666666666666666)"
      ]
     },
     "execution_count": 57,
     "metadata": {},
     "output_type": "execute_result"
    }
   ],
   "source": [
    "corrected_p_values"
   ]
  }
 ],
 "metadata": {
  "kernelspec": {
   "display_name": ".venv",
   "language": "python",
   "name": "python3"
  },
  "language_info": {
   "codemirror_mode": {
    "name": "ipython",
    "version": 3
   },
   "file_extension": ".py",
   "mimetype": "text/x-python",
   "name": "python",
   "nbconvert_exporter": "python",
   "pygments_lexer": "ipython3",
   "version": "3.9.6"
  }
 },
 "nbformat": 4,
 "nbformat_minor": 2
}
