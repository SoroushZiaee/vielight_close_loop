{
 "cells": [
  {
   "cell_type": "code",
   "execution_count": 1,
   "metadata": {},
   "outputs": [],
   "source": [
    "%load_ext lab_black\n",
    "%load_ext autoreload\n",
    "%autoreload 2\n",
    "%matplotlib inline"
   ]
  },
  {
   "cell_type": "code",
   "execution_count": 2,
   "metadata": {},
   "outputs": [],
   "source": [
    "import numpy as np\n",
    "import matplotlib.pyplot as plt\n",
    "import pandas as pd\n",
    "import mne\n",
    "import os"
   ]
  },
  {
   "cell_type": "markdown",
   "metadata": {},
   "source": [
    "# Read data\n",
    "\n",
    "- we're using mne library to first read data"
   ]
  },
  {
   "cell_type": "code",
   "execution_count": 3,
   "metadata": {},
   "outputs": [],
   "source": [
    "from mne.io import read_raw_eeglab"
   ]
  },
  {
   "cell_type": "code",
   "execution_count": null,
   "metadata": {},
   "outputs": [],
   "source": [
    "input_fname = \"/Users/soroush/Documents/Code/freelance-project/vielight/vielight_close_loop/data/HD_5min40Hz_dur1_post1_RELAX.set\"\n",
    "eog = ()\n",
    "\n",
    "sample_data = read_raw_eeglab(\n",
    "    input_fname=input_fname, eog=eog, preload=True, montage_units=\"mm\", verbose=True\n",
    ")"
   ]
  },
  {
   "cell_type": "code",
   "execution_count": 66,
   "metadata": {},
   "outputs": [
    {
     "data": {
      "text/plain": [
       "array([0.00000e+00, 2.00000e-03, 4.00000e-03, ..., 1.01994e+02,\n",
       "       1.01996e+02, 1.01998e+02])"
      ]
     },
     "execution_count": 66,
     "metadata": {},
     "output_type": "execute_result"
    }
   ],
   "source": [
    "sample_data"
   ]
  },
  {
   "cell_type": "markdown",
   "metadata": {},
   "source": [
    "# Visual data information\n",
    "\n",
    "- first, observing time components of signals\n",
    "- plot psd plot of signal and see frequency component of it"
   ]
  },
  {
   "cell_type": "code",
   "execution_count": null,
   "metadata": {},
   "outputs": [],
   "source": [
    "from mne.viz import plot_raw, plot_raw_psd"
   ]
  },
  {
   "cell_type": "code",
   "execution_count": null,
   "metadata": {},
   "outputs": [],
   "source": [
    "events = None\n",
    "duration = 1 * 60 + 42  # 1 minute and 42 seconds\n",
    "n_channels = 20\n",
    "scalings = None\n",
    "plot_raw(\n",
    "    raw=sample_data,\n",
    "    events=events,\n",
    "    duration=duration,\n",
    "    n_channels=n_channels,\n",
    "    scalings=scalings,\n",
    "    show=True,\n",
    ")\n",
    "\n",
    "print()"
   ]
  },
  {
   "cell_type": "code",
   "execution_count": null,
   "metadata": {},
   "outputs": [],
   "source": [
    "fmin = 0\n",
    "fmax = np.inf\n",
    "tmin = None\n",
    "tmax = None\n",
    "proj = False  # whether to apply SSP projection vectors\n",
    "n_fft = None  # number of points to use in Welch FFT calculations\n",
    "n_overlap = 0  # number of points of overlap between blocks\n",
    "xscale = \"linear\"  # scaling of the x-axis (‘linear’ or ‘log’)\n",
    "area_mode = \"std\"  # mode for plotting area (‘std’ or ‘range’)\n",
    "dB = True\n",
    "estimate = \"power\"\n",
    "n_jobs = -1\n",
    "average = True\n",
    "sphere = \"auto\"\n",
    "\n",
    "plot_raw_psd(\n",
    "    raw=sample_data,\n",
    "    fmin=fmin,\n",
    "    fmax=fmax,\n",
    "    tmin=tmin,\n",
    "    tmax=tmax,\n",
    "    proj=proj,\n",
    "    n_fft=n_fft,\n",
    "    n_overlap=n_overlap,\n",
    "    xscale=xscale,\n",
    "    area_mode=area_mode,\n",
    "    dB=dB,\n",
    "    estimate=estimate,\n",
    "    n_jobs=n_jobs,\n",
    "    average=average,\n",
    "    sphere=sphere,\n",
    "    show=True,\n",
    ")\n",
    "\n",
    "print()"
   ]
  },
  {
   "cell_type": "markdown",
   "metadata": {},
   "source": [
    "# Handling whole data\n",
    "\n",
    "- Load all pre, break, and post data to analyze them in these 3 groups"
   ]
  },
  {
   "cell_type": "code",
   "execution_count": 4,
   "metadata": {},
   "outputs": [],
   "source": [
    "input_fnames = {\n",
    "    \"pre\": [\n",
    "        \"/Users/soroush/Documents/Code/freelance-project/vielight/vielight_close_loop/data/HD_5min40Hz_dur1_pre1_RELAX.set\",\n",
    "        \"/Users/soroush/Documents/Code/freelance-project/vielight/vielight_close_loop/data/HD_5min40Hz_dur2_pre2_RELAX.set\",\n",
    "        \"/Users/soroush/Documents/Code/freelance-project/vielight/vielight_close_loop/data/HD_5min40Hz_dur3_pre3_RELAX.set\",\n",
    "    ],\n",
    "    \"break\": [\n",
    "        \"/Users/soroush/Documents/Code/freelance-project/vielight/vielight_close_loop/data/HD_5min40Hz_dur2_RELAX.set\",\n",
    "        \"/Users/soroush/Documents/Code/freelance-project/vielight/vielight_close_loop/data/HD_5min40Hz_dur3_RELAX.set\",\n",
    "    ],\n",
    "    \"post\": [\n",
    "        \"/Users/soroush/Documents/Code/freelance-project/vielight/vielight_close_loop/data/HD_5min40Hz_dur1_post1_RELAX.set\",\n",
    "        \"/Users/soroush/Documents/Code/freelance-project/vielight/vielight_close_loop/data/HD_5min40Hz_dur2_post2_RELAX.set\",\n",
    "        \"/Users/soroush/Documents/Code/freelance-project/vielight/vielight_close_loop/data/HD_5min40Hz_dur3_post3_RELAX.set\",\n",
    "        \"/Users/soroush/Documents/Code/freelance-project/vielight/vielight_close_loop/data/HD_5min40Hz_dur3_post3_part2_RELAX.set\",\n",
    "    ],\n",
    "}"
   ]
  },
  {
   "cell_type": "code",
   "execution_count": 5,
   "metadata": {},
   "outputs": [
    {
     "name": "stderr",
     "output_type": "stream",
     "text": [
      "/var/folders/r3/bw3cwm6125lcm5h39987hgz80000gn/T/ipykernel_74588/380193257.py:15: RuntimeWarning: Estimated head radius (0.0 cm) is below the 3rd percentile for infant head size. Check if the montage_units argument is correct (the default is \"mm\", but your channel positions may be in different units).\n",
      "  raw = read_raw_eeglab(\n",
      "/var/folders/r3/bw3cwm6125lcm5h39987hgz80000gn/T/ipykernel_74588/380193257.py:15: RuntimeWarning: Limited 2 annotation(s) that were expanding outside the data range.\n",
      "  raw = read_raw_eeglab(\n",
      "/var/folders/r3/bw3cwm6125lcm5h39987hgz80000gn/T/ipykernel_74588/380193257.py:15: RuntimeWarning: The data contains 'boundary' events, indicating data discontinuities. Be cautious of filtering and epoching around these events.\n",
      "  raw = read_raw_eeglab(\n",
      "/var/folders/r3/bw3cwm6125lcm5h39987hgz80000gn/T/ipykernel_74588/380193257.py:15: RuntimeWarning: Estimated head radius (0.0 cm) is below the 3rd percentile for infant head size. Check if the montage_units argument is correct (the default is \"mm\", but your channel positions may be in different units).\n",
      "  raw = read_raw_eeglab(\n",
      "/var/folders/r3/bw3cwm6125lcm5h39987hgz80000gn/T/ipykernel_74588/380193257.py:15: RuntimeWarning: Limited 2 annotation(s) that were expanding outside the data range.\n",
      "  raw = read_raw_eeglab(\n",
      "/var/folders/r3/bw3cwm6125lcm5h39987hgz80000gn/T/ipykernel_74588/380193257.py:15: RuntimeWarning: The data contains 'boundary' events, indicating data discontinuities. Be cautious of filtering and epoching around these events.\n",
      "  raw = read_raw_eeglab(\n",
      "/var/folders/r3/bw3cwm6125lcm5h39987hgz80000gn/T/ipykernel_74588/380193257.py:15: RuntimeWarning: Estimated head radius (0.0 cm) is below the 3rd percentile for infant head size. Check if the montage_units argument is correct (the default is \"mm\", but your channel positions may be in different units).\n",
      "  raw = read_raw_eeglab(\n",
      "/var/folders/r3/bw3cwm6125lcm5h39987hgz80000gn/T/ipykernel_74588/380193257.py:15: RuntimeWarning: Limited 2 annotation(s) that were expanding outside the data range.\n",
      "  raw = read_raw_eeglab(\n",
      "/var/folders/r3/bw3cwm6125lcm5h39987hgz80000gn/T/ipykernel_74588/380193257.py:15: RuntimeWarning: The data contains 'boundary' events, indicating data discontinuities. Be cautious of filtering and epoching around these events.\n",
      "  raw = read_raw_eeglab(\n",
      "/var/folders/r3/bw3cwm6125lcm5h39987hgz80000gn/T/ipykernel_74588/380193257.py:15: RuntimeWarning: Estimated head radius (0.0 cm) is below the 3rd percentile for infant head size. Check if the montage_units argument is correct (the default is \"mm\", but your channel positions may be in different units).\n",
      "  raw = read_raw_eeglab(\n",
      "/var/folders/r3/bw3cwm6125lcm5h39987hgz80000gn/T/ipykernel_74588/380193257.py:15: RuntimeWarning: Limited 2 annotation(s) that were expanding outside the data range.\n",
      "  raw = read_raw_eeglab(\n",
      "/var/folders/r3/bw3cwm6125lcm5h39987hgz80000gn/T/ipykernel_74588/380193257.py:15: RuntimeWarning: The data contains 'boundary' events, indicating data discontinuities. Be cautious of filtering and epoching around these events.\n",
      "  raw = read_raw_eeglab(\n",
      "/var/folders/r3/bw3cwm6125lcm5h39987hgz80000gn/T/ipykernel_74588/380193257.py:15: RuntimeWarning: Estimated head radius (0.0 cm) is below the 3rd percentile for infant head size. Check if the montage_units argument is correct (the default is \"mm\", but your channel positions may be in different units).\n",
      "  raw = read_raw_eeglab(\n",
      "/var/folders/r3/bw3cwm6125lcm5h39987hgz80000gn/T/ipykernel_74588/380193257.py:15: RuntimeWarning: Limited 2 annotation(s) that were expanding outside the data range.\n",
      "  raw = read_raw_eeglab(\n",
      "/var/folders/r3/bw3cwm6125lcm5h39987hgz80000gn/T/ipykernel_74588/380193257.py:15: RuntimeWarning: The data contains 'boundary' events, indicating data discontinuities. Be cautious of filtering and epoching around these events.\n",
      "  raw = read_raw_eeglab(\n",
      "/var/folders/r3/bw3cwm6125lcm5h39987hgz80000gn/T/ipykernel_74588/380193257.py:15: RuntimeWarning: Estimated head radius (0.0 cm) is below the 3rd percentile for infant head size. Check if the montage_units argument is correct (the default is \"mm\", but your channel positions may be in different units).\n",
      "  raw = read_raw_eeglab(\n",
      "/var/folders/r3/bw3cwm6125lcm5h39987hgz80000gn/T/ipykernel_74588/380193257.py:15: RuntimeWarning: Limited 2 annotation(s) that were expanding outside the data range.\n",
      "  raw = read_raw_eeglab(\n",
      "/var/folders/r3/bw3cwm6125lcm5h39987hgz80000gn/T/ipykernel_74588/380193257.py:15: RuntimeWarning: The data contains 'boundary' events, indicating data discontinuities. Be cautious of filtering and epoching around these events.\n",
      "  raw = read_raw_eeglab(\n",
      "/var/folders/r3/bw3cwm6125lcm5h39987hgz80000gn/T/ipykernel_74588/380193257.py:15: RuntimeWarning: Estimated head radius (0.0 cm) is below the 3rd percentile for infant head size. Check if the montage_units argument is correct (the default is \"mm\", but your channel positions may be in different units).\n",
      "  raw = read_raw_eeglab(\n",
      "/var/folders/r3/bw3cwm6125lcm5h39987hgz80000gn/T/ipykernel_74588/380193257.py:15: RuntimeWarning: Limited 2 annotation(s) that were expanding outside the data range.\n",
      "  raw = read_raw_eeglab(\n",
      "/var/folders/r3/bw3cwm6125lcm5h39987hgz80000gn/T/ipykernel_74588/380193257.py:15: RuntimeWarning: The data contains 'boundary' events, indicating data discontinuities. Be cautious of filtering and epoching around these events.\n",
      "  raw = read_raw_eeglab(\n",
      "/var/folders/r3/bw3cwm6125lcm5h39987hgz80000gn/T/ipykernel_74588/380193257.py:15: RuntimeWarning: Estimated head radius (0.0 cm) is below the 3rd percentile for infant head size. Check if the montage_units argument is correct (the default is \"mm\", but your channel positions may be in different units).\n",
      "  raw = read_raw_eeglab(\n",
      "/var/folders/r3/bw3cwm6125lcm5h39987hgz80000gn/T/ipykernel_74588/380193257.py:15: RuntimeWarning: Limited 2 annotation(s) that were expanding outside the data range.\n",
      "  raw = read_raw_eeglab(\n",
      "/var/folders/r3/bw3cwm6125lcm5h39987hgz80000gn/T/ipykernel_74588/380193257.py:15: RuntimeWarning: The data contains 'boundary' events, indicating data discontinuities. Be cautious of filtering and epoching around these events.\n",
      "  raw = read_raw_eeglab(\n",
      "/var/folders/r3/bw3cwm6125lcm5h39987hgz80000gn/T/ipykernel_74588/380193257.py:15: RuntimeWarning: Estimated head radius (0.0 cm) is below the 3rd percentile for infant head size. Check if the montage_units argument is correct (the default is \"mm\", but your channel positions may be in different units).\n",
      "  raw = read_raw_eeglab(\n",
      "/var/folders/r3/bw3cwm6125lcm5h39987hgz80000gn/T/ipykernel_74588/380193257.py:15: RuntimeWarning: Limited 2 annotation(s) that were expanding outside the data range.\n",
      "  raw = read_raw_eeglab(\n",
      "/var/folders/r3/bw3cwm6125lcm5h39987hgz80000gn/T/ipykernel_74588/380193257.py:15: RuntimeWarning: The data contains 'boundary' events, indicating data discontinuities. Be cautious of filtering and epoching around these events.\n",
      "  raw = read_raw_eeglab(\n"
     ]
    }
   ],
   "source": [
    "def extract_metadata(raw, stage: str = \"pre\"):\n",
    "    metadata = {\n",
    "        \"stage\": stage,\n",
    "        \"filename\": os.path.basename(raw.filenames[0]),\n",
    "        \"n_channels\": len(raw.info[\"ch_names\"]),\n",
    "        \"duration\": raw.times[-1],  # in seconds\n",
    "        \"sample_rate\": raw.info[\"sfreq\"],\n",
    "    }\n",
    "    return metadata\n",
    "\n",
    "\n",
    "def get_data(input_fnames, stage: str = \"pre\", eog=(), verbose=True):\n",
    "    data = {\"data\": [], \"metadata\": []}\n",
    "    for input_fname in input_fnames:\n",
    "        raw = read_raw_eeglab(\n",
    "            input_fname=input_fname,\n",
    "            eog=eog,\n",
    "            preload=True,\n",
    "            montage_units=\"mm\",\n",
    "            verbose=verbose,\n",
    "        )\n",
    "        meta = extract_metadata(raw, stage=stage)\n",
    "        data[\"metadata\"].append(meta)\n",
    "        data[\"data\"].append(raw)\n",
    "\n",
    "    return data\n",
    "\n",
    "\n",
    "verbose = 0\n",
    "\n",
    "pre_data = get_data(input_fnames[\"pre\"], stage=\"pre\", verbose=verbose)\n",
    "break_data = get_data(input_fnames[\"break\"], stage=\"break\", verbose=verbose)\n",
    "post_data = get_data(input_fnames[\"post\"], stage=\"post\", verbose=verbose)"
   ]
  },
  {
   "cell_type": "code",
   "execution_count": 40,
   "metadata": {},
   "outputs": [
    {
     "data": {
      "text/html": [
       "<div>\n",
       "<style scoped>\n",
       "    .dataframe tbody tr th:only-of-type {\n",
       "        vertical-align: middle;\n",
       "    }\n",
       "\n",
       "    .dataframe tbody tr th {\n",
       "        vertical-align: top;\n",
       "    }\n",
       "\n",
       "    .dataframe thead th {\n",
       "        text-align: right;\n",
       "    }\n",
       "</style>\n",
       "<table border=\"1\" class=\"dataframe\">\n",
       "  <thead>\n",
       "    <tr style=\"text-align: right;\">\n",
       "      <th></th>\n",
       "      <th>stage</th>\n",
       "      <th>filename</th>\n",
       "      <th>n_channels</th>\n",
       "      <th>duration</th>\n",
       "      <th>sample_rate</th>\n",
       "    </tr>\n",
       "  </thead>\n",
       "  <tbody>\n",
       "    <tr>\n",
       "      <th>0</th>\n",
       "      <td>pre</td>\n",
       "      <td>HD_5min40Hz_dur1_pre1_RELAX.fdt</td>\n",
       "      <td>58</td>\n",
       "      <td>141.498</td>\n",
       "      <td>500.0</td>\n",
       "    </tr>\n",
       "    <tr>\n",
       "      <th>1</th>\n",
       "      <td>pre</td>\n",
       "      <td>HD_5min40Hz_dur2_pre2_RELAX.fdt</td>\n",
       "      <td>58</td>\n",
       "      <td>120.998</td>\n",
       "      <td>500.0</td>\n",
       "    </tr>\n",
       "    <tr>\n",
       "      <th>2</th>\n",
       "      <td>pre</td>\n",
       "      <td>HD_5min40Hz_dur3_pre3_RELAX.fdt</td>\n",
       "      <td>58</td>\n",
       "      <td>91.998</td>\n",
       "      <td>500.0</td>\n",
       "    </tr>\n",
       "    <tr>\n",
       "      <th>0</th>\n",
       "      <td>break</td>\n",
       "      <td>HD_5min40Hz_dur2_RELAX.fdt</td>\n",
       "      <td>58</td>\n",
       "      <td>279.498</td>\n",
       "      <td>500.0</td>\n",
       "    </tr>\n",
       "    <tr>\n",
       "      <th>1</th>\n",
       "      <td>break</td>\n",
       "      <td>HD_5min40Hz_dur3_RELAX.fdt</td>\n",
       "      <td>58</td>\n",
       "      <td>287.998</td>\n",
       "      <td>500.0</td>\n",
       "    </tr>\n",
       "    <tr>\n",
       "      <th>0</th>\n",
       "      <td>post</td>\n",
       "      <td>HD_5min40Hz_dur1_post1_RELAX.fdt</td>\n",
       "      <td>58</td>\n",
       "      <td>101.998</td>\n",
       "      <td>500.0</td>\n",
       "    </tr>\n",
       "    <tr>\n",
       "      <th>1</th>\n",
       "      <td>post</td>\n",
       "      <td>HD_5min40Hz_dur2_post2_RELAX.fdt</td>\n",
       "      <td>58</td>\n",
       "      <td>158.498</td>\n",
       "      <td>500.0</td>\n",
       "    </tr>\n",
       "    <tr>\n",
       "      <th>2</th>\n",
       "      <td>post</td>\n",
       "      <td>HD_5min40Hz_dur3_post3_RELAX.fdt</td>\n",
       "      <td>56</td>\n",
       "      <td>113.498</td>\n",
       "      <td>500.0</td>\n",
       "    </tr>\n",
       "    <tr>\n",
       "      <th>3</th>\n",
       "      <td>post</td>\n",
       "      <td>HD_5min40Hz_dur3_post3_part2_RELAX.fdt</td>\n",
       "      <td>58</td>\n",
       "      <td>93.998</td>\n",
       "      <td>500.0</td>\n",
       "    </tr>\n",
       "  </tbody>\n",
       "</table>\n",
       "</div>"
      ],
      "text/plain": [
       "   stage                                filename  n_channels  duration  \\\n",
       "0    pre         HD_5min40Hz_dur1_pre1_RELAX.fdt          58   141.498   \n",
       "1    pre         HD_5min40Hz_dur2_pre2_RELAX.fdt          58   120.998   \n",
       "2    pre         HD_5min40Hz_dur3_pre3_RELAX.fdt          58    91.998   \n",
       "0  break              HD_5min40Hz_dur2_RELAX.fdt          58   279.498   \n",
       "1  break              HD_5min40Hz_dur3_RELAX.fdt          58   287.998   \n",
       "0   post        HD_5min40Hz_dur1_post1_RELAX.fdt          58   101.998   \n",
       "1   post        HD_5min40Hz_dur2_post2_RELAX.fdt          58   158.498   \n",
       "2   post        HD_5min40Hz_dur3_post3_RELAX.fdt          56   113.498   \n",
       "3   post  HD_5min40Hz_dur3_post3_part2_RELAX.fdt          58    93.998   \n",
       "\n",
       "   sample_rate  \n",
       "0        500.0  \n",
       "1        500.0  \n",
       "2        500.0  \n",
       "0        500.0  \n",
       "1        500.0  \n",
       "0        500.0  \n",
       "1        500.0  \n",
       "2        500.0  \n",
       "3        500.0  "
      ]
     },
     "execution_count": 40,
     "metadata": {},
     "output_type": "execute_result"
    }
   ],
   "source": [
    "columns = [\"stage\", \"filename\", \"n_channels\", \"duration\", \"sample_rate\"]\n",
    "\n",
    "pre_df = pd.DataFrame(pre_data[\"metadata\"], columns=columns)\n",
    "break_df = pd.DataFrame(break_data[\"metadata\"], columns=columns)\n",
    "post_df = pd.DataFrame(post_data[\"metadata\"], columns=columns)\n",
    "\n",
    "df = pd.concat([pre_df, break_df, post_df], axis=0)\n",
    "# df.to_csv(\"results/metadata.csv\", index=False)\n",
    "df"
   ]
  },
  {
   "cell_type": "code",
   "execution_count": 39,
   "metadata": {},
   "outputs": [
    {
     "name": "stdout",
     "output_type": "stream",
     "text": [
      "Effective window size : 4.096 (s)\n",
      "Effective window size : 4.096 (s)\n"
     ]
    },
    {
     "name": "stderr",
     "output_type": "stream",
     "text": [
      "[Parallel(n_jobs=-1)]: Using backend LokyBackend with 16 concurrent workers.\n",
      "[Parallel(n_jobs=-1)]: Done   5 out of  16 | elapsed:    0.0s remaining:    0.1s\n",
      "[Parallel(n_jobs=-1)]: Done   9 out of  16 | elapsed:    0.1s remaining:    0.1s\n",
      "[Parallel(n_jobs=-1)]: Done  13 out of  16 | elapsed:    0.1s remaining:    0.0s\n",
      "[Parallel(n_jobs=-1)]: Done  16 out of  16 | elapsed:    0.1s finished\n",
      "[Parallel(n_jobs=-1)]: Using backend LokyBackend with 16 concurrent workers.\n"
     ]
    },
    {
     "name": "stdout",
     "output_type": "stream",
     "text": [
      "Effective window size : 4.096 (s)\n"
     ]
    },
    {
     "name": "stderr",
     "output_type": "stream",
     "text": [
      "[Parallel(n_jobs=-1)]: Done   5 out of  16 | elapsed:    0.1s remaining:    0.2s\n",
      "[Parallel(n_jobs=-1)]: Done   9 out of  16 | elapsed:    0.1s remaining:    0.1s\n",
      "[Parallel(n_jobs=-1)]: Done  13 out of  16 | elapsed:    0.2s remaining:    0.0s\n",
      "[Parallel(n_jobs=-1)]: Done  16 out of  16 | elapsed:    0.2s finished\n",
      "[Parallel(n_jobs=-1)]: Using backend LokyBackend with 16 concurrent workers.\n",
      "[Parallel(n_jobs=-1)]: Done   5 out of  16 | elapsed:    0.0s remaining:    0.1s\n",
      "[Parallel(n_jobs=-1)]: Done   9 out of  16 | elapsed:    0.1s remaining:    0.0s\n",
      "[Parallel(n_jobs=-1)]: Done  13 out of  16 | elapsed:    0.1s remaining:    0.0s\n",
      "[Parallel(n_jobs=-1)]: Done  16 out of  16 | elapsed:    0.1s finished\n"
     ]
    },
    {
     "data": {
      "image/png": "[encoded data removed]",
      "text/plain": [
       "<Figure size 1000x700 with 1 Axes>"
      ]
     },
     "metadata": {},
     "output_type": "display_data"
    }
   ],
   "source": [
    "method = \"welch\"\n",
    "fmin, fmax = 0, np.inf\n",
    "tmin, tmax = None, None\n",
    "remove_dc = False\n",
    "n_jobs = -1\n",
    "\n",
    "\n",
    "pre_spectrum = pre_data[\"data\"][2].compute_psd(\n",
    "    method=method,\n",
    "    fmin=fmin,\n",
    "    fmax=fmax,\n",
    "    tmin=tmin,\n",
    "    tmax=tmax,\n",
    "    remove_dc=remove_dc,\n",
    "    n_jobs=n_jobs,\n",
    "    n_fft=2048,\n",
    ")\n",
    "\n",
    "break_spectrum = break_data[\"data\"][1].compute_psd(\n",
    "    method=method,\n",
    "    fmin=fmin,\n",
    "    fmax=fmax,\n",
    "    tmin=tmin,\n",
    "    tmax=tmax,\n",
    "    remove_dc=remove_dc,\n",
    "    n_jobs=n_jobs,\n",
    "    n_fft=2048,\n",
    ")\n",
    "\n",
    "post_spectrum = post_data[\"data\"][3].compute_psd(\n",
    "    method=method,\n",
    "    fmin=fmin,\n",
    "    fmax=fmax,\n",
    "    tmin=tmin,\n",
    "    tmax=tmax,\n",
    "    remove_dc=remove_dc,\n",
    "    n_jobs=n_jobs,\n",
    "    n_fft=2048,\n",
    ")\n",
    "\n",
    "pre_psd, pre_freqs = pre_spectrum.get_data(return_freqs=True)\n",
    "break_psd, break_freqs = break_spectrum.get_data(return_freqs=True)\n",
    "post_psd, post_freqs = post_spectrum.get_data(return_freqs=True)\n",
    "\n",
    "\n",
    "# Average over channels and convert to dB\n",
    "pre_psd_dB = 10 * np.log10(pre_psd.mean(axis=0))\n",
    "break_psd_dB = 10 * np.log10(break_psd.mean(axis=0))\n",
    "post_psd_dB = 10 * np.log10(post_psd.mean(axis=0))\n",
    "\n",
    "\n",
    "# Plotting\n",
    "title = \"pre3_post3(part2)\"\n",
    "plt.figure(figsize=(10, 7))\n",
    "plt.plot(pre_freqs, pre_psd_dB, label=\"pre\")\n",
    "# plt.plot(break_freqs, break_psd_dB, label=\"break\")\n",
    "plt.plot(post_freqs, post_psd_dB, label=\"post\")\n",
    "plt.xlabel(\"Frequency (Hz)\")\n",
    "plt.ylabel(\"Power Spectral Density (dB/Hz)\")\n",
    "plt.title(f\"Comparison of Power Spectral Density between {title} Signals in dB\")\n",
    "plt.legend()\n",
    "plt.savefig(f\"../output_data/psd_of_trials/{title}.png\", dpi=300)\n",
    "plt.show()"
   ]
  },
  {
   "cell_type": "markdown",
   "metadata": {},
   "source": [
    "# Rejected experiments"
   ]
  },
  {
   "cell_type": "code",
   "execution_count": 82,
   "metadata": {},
   "outputs": [],
   "source": [
    "# concatenate the data is wrong for our case, because concatenation\n",
    "# function only works if the data need to be continuously.\n",
    "\n",
    "preload = True\n",
    "on_mismatch = \"ignore\"\n",
    "\n",
    "# pre_raws = mne.concatenate_raws(\n",
    "#     pre_data[\"data\"], preload=preload, on_mismatch=on_mismatch\n",
    "# )\n",
    "# break_raws = mne.concatenate_raws(\n",
    "#     break_data[\"data\"], preload=preload, on_mismatch=on_mismatch\n",
    "# )\n",
    "# TODO: fix the error below: HD_5min40Hz_dur3_post3_RELAX.fdt has 56 channels but the others have 58 channels\n",
    "# post_raws = mne.concatenate_raws(post_data, preload=preload, on_mismatch=on_mismatch)\n",
    "\n",
    "# Save the raws\n",
    "# pre_raws.save(\n",
    "#     \"/Users/soroush/Documents/Code/freelance-project/vielight/vielight_close_loop/output_data/io_experiments/pre_whole_raws.fif\"\n",
    "# )\n",
    "# break_raws.save(\n",
    "#     \"/Users/soroush/Documents/Code/freelance-project/vielight/vielight_close_loop/output_data/io_experiments/break_whole_raws.fif\"\n",
    "# )"
   ]
  }
 ],
 "metadata": {
  "kernelspec": {
   "display_name": "Python 3 (ipykernel)",
   "language": "python",
   "name": "python3"
  },
  "language_info": {
   "codemirror_mode": {
    "name": "ipython",
    "version": 3
   },
   "file_extension": ".py",
   "mimetype": "text/x-python",
   "name": "python",
   "nbconvert_exporter": "python",
   "pygments_lexer": "ipython3",
   "version": "3.9.6"
  }
 },
 "nbformat": 4,
 "nbformat_minor": 4
}
